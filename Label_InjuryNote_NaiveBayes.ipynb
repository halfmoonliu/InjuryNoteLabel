{
  "cells": [
    {
      "cell_type": "markdown",
      "metadata": {},
      "source": [
        "# Real Data"
      ]
    },
    {
      "cell_type": "code",
      "execution_count": 1,
      "metadata": {
        "id": "wZsNmYxTVbgQ"
      },
      "outputs": [],
      "source": [
        "import matplotlib.pyplot as plt\n",
        "import numpy as np\n",
        "import pandas as pd\n",
        "from sklearn.naive_bayes import MultinomialNB\n",
        "from sklearn import metrics\n",
        "from transformers import BertTokenizer\n",
        "import time\n",
        "\n",
        "\n",
        "pd.set_option(\"mode.copy_on_write\", True)\n",
        "\n",
        "import warnings\n",
        "\n",
        "warnings.simplefilter(action=\"ignore\", category=FutureWarning)"
      ]
    },
    {
      "cell_type": "markdown",
      "metadata": {},
      "source": [
        "#### Loading the data"
      ]
    },
    {
      "cell_type": "code",
      "execution_count": 2,
      "metadata": {},
      "outputs": [],
      "source": [
        "Dataset = pd.read_csv(\n",
        "    \"https://raw.githubusercontent.com/halfmoonliu/InjuryNoteLabel/main/Data/full_dataset.csv\"\n",
        ")"
      ]
    },
    {
      "cell_type": "code",
      "execution_count": 3,
      "metadata": {},
      "outputs": [],
      "source": [
        "train_df_real = pd.read_csv(\n",
        "    \"https://raw.githubusercontent.com/halfmoonliu/InjuryNoteLabel/main/Data/TrainSetReal.csv\"\n",
        ")\n",
        "test_df_real = pd.read_csv(\n",
        "    \"https://raw.githubusercontent.com/halfmoonliu/InjuryNoteLabel/main/Data/TestSetReal.csv\"\n",
        ")\n",
        "dev_df_real = pd.read_csv(\n",
        "    \"https://raw.githubusercontent.com/halfmoonliu/InjuryNoteLabel/main/Data/DevSetReal.csv\"\n",
        ")"
      ]
    },
    {
      "cell_type": "markdown",
      "metadata": {},
      "source": [
        "#### EDA to find the most common categories in the Event column"
      ]
    },
    {
      "cell_type": "code",
      "execution_count": 4,
      "metadata": {},
      "outputs": [
        {
          "data": {
            "text/plain": [
              "48"
            ]
          },
          "execution_count": 4,
          "metadata": {},
          "output_type": "execute_result"
        }
      ],
      "source": [
        "Dataset.event.nunique()"
      ]
    },
    {
      "cell_type": "code",
      "execution_count": 5,
      "metadata": {},
      "outputs": [
        {
          "data": {
            "text/plain": [
              "event\n",
              "71    38673\n",
              "62    36421\n",
              "42    23320\n",
              "55    17421\n",
              "63    13520\n",
              "60    13406\n",
              "11    13337\n",
              "73    12409\n",
              "43     9776\n",
              "70     7933\n",
              "64     6540\n",
              "53     5817\n",
              "13     4861\n",
              "66     4289\n",
              "26     4017\n",
              "12     3338\n",
              "41     2257\n",
              "99     2050\n",
              "24     1517\n",
              "31     1347\n",
              "78     1326\n",
              "27     1260\n",
              "72     1141\n",
              "51      741\n",
              "52      708\n",
              "44      556\n",
              "32      494\n",
              "23      423\n",
              "25      146\n",
              "69      144\n",
              "67       90\n",
              "61       78\n",
              "22       76\n",
              "40       76\n",
              "65       73\n",
              "21       55\n",
              "49       40\n",
              "50       39\n",
              "45       22\n",
              "20       19\n",
              "79       18\n",
              "54       15\n",
              "56        9\n",
              "59        7\n",
              "74        7\n",
              "10        4\n",
              "30        2\n",
              "29        2\n",
              "Name: count, dtype: int64"
            ]
          },
          "execution_count": 5,
          "metadata": {},
          "output_type": "execute_result"
        }
      ],
      "source": [
        "Dataset.event.value_counts()"
      ]
    },
    {
      "cell_type": "code",
      "execution_count": 6,
      "metadata": {},
      "outputs": [
        {
          "data": {
            "text/plain": [
              "16.827517187364023"
            ]
          },
          "execution_count": 6,
          "metadata": {},
          "output_type": "execute_result"
        }
      ],
      "source": [
        "# calculating the most common event in the dataset and how much it accounts for.\n",
        "\n",
        "(len(Dataset[Dataset.event == 71]) / len(Dataset.event)) * 100"
      ]
    },
    {
      "cell_type": "code",
      "execution_count": 7,
      "metadata": {},
      "outputs": [
        {
          "data": {
            "text/plain": [
              "15.847619876425028"
            ]
          },
          "execution_count": 7,
          "metadata": {},
          "output_type": "execute_result"
        }
      ],
      "source": [
        "# calculating the most common event in the dataset and how much it accounts for.\n",
        "\n",
        "(len(Dataset[Dataset.event == 62]) / len(Dataset.event)) * 100"
      ]
    },
    {
      "cell_type": "code",
      "execution_count": 8,
      "metadata": {},
      "outputs": [
        {
          "data": {
            "text/plain": [
              "0.0008702462796971543"
            ]
          },
          "execution_count": 8,
          "metadata": {},
          "output_type": "execute_result"
        }
      ],
      "source": [
        "# Calculating the least commont occurance in the dataset\n",
        "\n",
        "(len(Dataset[Dataset.event == 30]) / len(Dataset.event)) * 100"
      ]
    },
    {
      "cell_type": "code",
      "execution_count": 9,
      "metadata": {},
      "outputs": [],
      "source": [
        "# counting the events and values and creating a plot\n",
        "\n",
        "event = Dataset.event.value_counts().index\n",
        "event_labels = list(map(str, event))\n",
        "event_counts = Dataset.event.value_counts().values"
      ]
    },
    {
      "cell_type": "markdown",
      "metadata": {},
      "source": [
        "#### Viewing the Distribution of the dataset"
      ]
    },
    {
      "cell_type": "code",
      "execution_count": 10,
      "metadata": {},
      "outputs": [
        {
          "data": {
            "image/png": "[encoded data removed]",
            "text/plain": [
              "<Figure size 1200x600 with 1 Axes>"
            ]
          },
          "metadata": {},
          "output_type": "display_data"
        }
      ],
      "source": [
        "# Create a bar plot\n",
        "plt.figure(figsize=(12, 6))\n",
        "plt.bar(event_labels, event_counts, color=\"skyblue\")\n",
        "plt.xlabel(\"Event Labels\")\n",
        "plt.ylabel(\"Label Counts\")\n",
        "plt.title(\"Distribution of Events for the Dataset\")\n",
        "plt.show()"
      ]
    },
    {
      "cell_type": "code",
      "execution_count": 11,
      "metadata": {},
      "outputs": [
        {
          "data": {
            "text/plain": [
              "48"
            ]
          },
          "execution_count": 11,
          "metadata": {},
          "output_type": "execute_result"
        }
      ],
      "source": [
        "len(event_labels)"
      ]
    },
    {
      "cell_type": "markdown",
      "metadata": {
        "id": "LRebn4Ulr9fv"
      },
      "source": [
        "### Tokenisation\n",
        "The next step is to tokenize the documents, or individual injury report in this project. After tokenization, naratives become lists of words. We use the **BERT pretrained tokenizer**, provided by **Hugging face**. Below is an illustrating example."
      ]
    },
    {
      "cell_type": "code",
      "execution_count": 12,
      "metadata": {
        "id": "Ef7IKCk0wb3B"
      },
      "outputs": [],
      "source": [
        "# load pretrained tokenizer\n",
        "PRE_TRAINED_MODEL_NAME = \"bert-base-cased\"\n",
        "tokenizer = BertTokenizer.from_pretrained(PRE_TRAINED_MODEL_NAME)"
      ]
    },
    {
      "cell_type": "code",
      "execution_count": 13,
      "metadata": {
        "colab": {
          "base_uri": "https://localhost:8080/"
        },
        "id": "e-DPCXJ1WAt4",
        "outputId": "22a727ec-79f7-437b-e6b8-66c75b89b82b"
      },
      "outputs": [
        {
          "name": "stdout",
          "output_type": "stream",
          "text": [
            " Sentence: When was I last outside? I am stuck at home for 2 weeks.\n",
            "   Tokens: ['When', 'was', 'I', 'last', 'outside', '?', 'I', 'am', 'stuck', 'at', 'home', 'for', '2', 'weeks', '.']\n",
            "Token IDs: [1332, 1108, 146, 1314, 1796, 136, 146, 1821, 5342, 1120, 1313, 1111, 123, 2277, 119]\n"
          ]
        }
      ],
      "source": [
        "# an illustrating example of input/ output of tokenizer\n",
        "sample_txt = \"When was I last outside? I am stuck at home for 2 weeks.\"\n",
        "tokens_sample = tokenizer.tokenize(sample_txt)\n",
        "token_ids_sample = tokenizer.convert_tokens_to_ids(tokens_sample)\n",
        "\n",
        "print(f\" Sentence: {sample_txt}\")\n",
        "print(f\"   Tokens: {tokens_sample}\")\n",
        "print(f\"Token IDs: {token_ids_sample}\")"
      ]
    },
    {
      "cell_type": "markdown",
      "metadata": {
        "id": "pqqZEY2fdfPT"
      },
      "source": [
        "#### Create Training Corpus\n",
        "\n",
        "\n"
      ]
    },
    {
      "cell_type": "code",
      "execution_count": 14,
      "metadata": {
        "colab": {
          "base_uri": "https://localhost:8080/"
        },
        "id": "6o52RtV6bYLD",
        "outputId": "5413219a-b3bb-4254-af7e-dd9478c92bab"
      },
      "outputs": [
        {
          "name": "stdout",
          "output_type": "stream",
          "text": [
            "183856\n",
            "['47', 'yo', 'female', 'dropped', 'p', '##alle', '##t', 'on', 'foot', 'at', 'work', 'd', '##x', 'toe', 'injury', 'b']\n"
          ]
        }
      ],
      "source": [
        "# Create injury report corpus, i.e. list of lists of totokenized\n",
        "\n",
        "train_report_l = train_df_real[\"text\"].tolist()\n",
        "training_corpus = [tokenizer.tokenize(report.lower()) for report in train_report_l]\n",
        "print(len(training_corpus))\n",
        "print(training_corpus[0])"
      ]
    },
    {
      "cell_type": "code",
      "execution_count": 15,
      "metadata": {
        "id": "aTwMOtiPbqil"
      },
      "outputs": [],
      "source": [
        "# create training vocab dictionary\n",
        "\n",
        "tok_ind = 0  # numbering for dictionary\n",
        "tok_id_d = dict()  # map token to token_ind\n",
        "id_tok_d = dict()  # map token_ind to token\n",
        "\n",
        "# looping over the training corpus\n",
        "for si in range(len(training_corpus)):\n",
        "    # loop over tokens in the sentence\n",
        "    for tok in training_corpus[si]:\n",
        "        # update vocab dict\n",
        "        if tok not in tok_id_d:\n",
        "            tok_id_d[tok] = tok_ind\n",
        "            id_tok_d[tok_ind] = tok\n",
        "            # update token index\n",
        "            tok_ind += 1\n",
        "tok_id_d[\"UNK\"] = tok_ind\n",
        "id_tok_d[tok_ind] = \"UNK\""
      ]
    },
    {
      "cell_type": "code",
      "execution_count": 16,
      "metadata": {
        "colab": {
          "base_uri": "https://localhost:8080/"
        },
        "id": "H1a6eIrVcVcK",
        "outputId": "1ca399bd-0a59-4ed8-cc4d-6c4ca3a3e3c9"
      },
      "outputs": [
        {
          "name": "stdout",
          "output_type": "stream",
          "text": [
            "length of the vocabulary:\n",
            "10419\n",
            "10418\n",
            "UNK\n"
          ]
        }
      ],
      "source": [
        "# get vocab length\n",
        "\n",
        "all_toks = id_tok_d.keys()\n",
        "print(\"length of the vocabulary:\")\n",
        "print(len(all_toks))\n",
        "print(tok_id_d[\"UNK\"])\n",
        "print(id_tok_d[10418])"
      ]
    },
    {
      "cell_type": "markdown",
      "metadata": {
        "id": "66DBb4QLdCQ2"
      },
      "source": [
        "#### Prepare dataset"
      ]
    },
    {
      "cell_type": "code",
      "execution_count": 17,
      "metadata": {
        "id": "Z22bMM9yc85g"
      },
      "outputs": [],
      "source": [
        "def MapTokInd(tok, tokMap):\n",
        "    if tok in tokMap:\n",
        "        return tokMap[tok]\n",
        "    else:\n",
        "        return tokMap[\"UNK\"]"
      ]
    },
    {
      "cell_type": "code",
      "execution_count": 18,
      "metadata": {},
      "outputs": [],
      "source": [
        "# create x_train, y_train\n",
        "train_corpus_frag = training_corpus\n",
        "x_train = np.empty((len(train_corpus_frag), len(all_toks)))\n",
        "y_train = train_df_real[\"event\"].to_numpy()\n",
        "\n",
        "# looping over the training corpus\n",
        "for si in range(len(train_corpus_frag)):\n",
        "    word_count_sent = np.zeros(len(all_toks))\n",
        "    # loop over tokens in the sentence\n",
        "    for tok in training_corpus[si]:\n",
        "        tokInd = MapTokInd(tok, tok_id_d)\n",
        "        word_count_sent[tokInd] += 1\n",
        "    x_train[si] = word_count_sent"
      ]
    },
    {
      "cell_type": "code",
      "execution_count": 19,
      "metadata": {
        "id": "eYaEVlQHdjkF"
      },
      "outputs": [],
      "source": [
        "# # create x_train, y_train\n",
        "# train_corpus_frag = training_corpus[:100000]\n",
        "# x_train = np.empty((len(train_corpus_frag), len(all_toks)))\n",
        "# y_train = train_df_real[\"event\"].to_numpy()[:100000]\n",
        "\n",
        "# # looping over the training corpus\n",
        "# for si in range(len(train_corpus_frag)):\n",
        "#     word_count_sent = np.zeros(len(all_toks))\n",
        "#     # loop over tokens in the sentence\n",
        "#     for tok in training_corpus[si]:\n",
        "#         tokInd = MapTokInd(tok, tok_id_d)\n",
        "#         word_count_sent[tokInd] += 1\n",
        "#     x_train[si] = word_count_sent"
      ]
    },
    {
      "cell_type": "markdown",
      "metadata": {},
      "source": [
        "#### Fitting the dataset"
      ]
    },
    {
      "cell_type": "code",
      "execution_count": 20,
      "metadata": {
        "colab": {
          "base_uri": "https://localhost:8080/",
          "height": 74
        },
        "id": "BrJXiFdagRno",
        "outputId": "d65c9a9d-1d3d-42f8-f310-85cfaa2391d1"
      },
      "outputs": [
        {
          "name": "stdout",
          "output_type": "stream",
          "text": [
            "Time spent training the corpus: 19.06555700302124 seconds\n"
          ]
        }
      ],
      "source": [
        "NBModel = MultinomialNB()\n",
        "\n",
        "start_time = time.time()\n",
        "\n",
        "NBModel.fit(x_train, y_train)\n",
        "\n",
        "# Record the end time\n",
        "end_time = time.time()\n",
        "\n",
        "# Calculate and print the time spent\n",
        "elapsed_time = end_time - start_time\n",
        "print(f\"Time spent training the corpus: {elapsed_time} seconds\")"
      ]
    },
    {
      "cell_type": "code",
      "execution_count": 21,
      "metadata": {},
      "outputs": [
        {
          "name": "stdout",
          "output_type": "stream",
          "text": [
            "Training Accuracy: 75.02\n"
          ]
        }
      ],
      "source": [
        "# Predict labels for the training data\n",
        "y_train_pred = NBModel.predict(x_train)\n",
        "\n",
        "# Calculate accuracy on the training data\n",
        "train_accuracy = np.sum(y_train == y_train_pred) / x_train.shape[0] * 100\n",
        "\n",
        "print(\"Training Accuracy:\", round(train_accuracy, 2))"
      ]
    },
    {
      "cell_type": "markdown",
      "metadata": {},
      "source": [
        "#### Calculating the Test Corpus and accuracy"
      ]
    },
    {
      "cell_type": "code",
      "execution_count": 23,
      "metadata": {
        "colab": {
          "base_uri": "https://localhost:8080/"
        },
        "id": "GToS23DokGUz",
        "outputId": "19b51068-ab6c-46e3-c336-665b1f4088f4"
      },
      "outputs": [
        {
          "name": "stdout",
          "output_type": "stream",
          "text": [
            "22982\n",
            "['56', '##yo', '##f', 'with', 'hem', '##ato', '##ma', 'to', 'left', 'side', 'of', 'head', 'after', 'being', 'knocked', 'over', 'by', 'a', 'student', 'fell', 'and', 'hit', 'the', 'ground', 'at', 'school']\n"
          ]
        }
      ],
      "source": [
        "# Create test corpus\n",
        "test_report_l = test_df_real[\"text\"].tolist()\n",
        "test_corpus = [tokenizer.tokenize(report.lower()) for report in test_report_l]\n",
        "print(len(test_corpus))\n",
        "print(test_corpus[0])"
      ]
    },
    {
      "cell_type": "code",
      "execution_count": 24,
      "metadata": {
        "id": "jS3AcagKj6b2"
      },
      "outputs": [],
      "source": [
        "# creating the matrices for the test corpus and populating it with the words to form a matrix\n",
        "\n",
        "x_test = np.empty((len(test_corpus), len(all_toks)))\n",
        "y_test = test_df_real[\"event\"].to_numpy()\n",
        "\n",
        "# looping over the test corpus\n",
        "for si in range(len(test_corpus)):\n",
        "    word_count_sent = np.zeros(len(all_toks))\n",
        "    # loop over tokens in the sentence\n",
        "    for tok in test_corpus[si]:\n",
        "        tokInd = MapTokInd(tok, tok_id_d)\n",
        "        word_count_sent[tokInd] += 1\n",
        "    x_test[si] = word_count_sent"
      ]
    },
    {
      "cell_type": "code",
      "execution_count": 26,
      "metadata": {
        "id": "gXmas8ToknpL"
      },
      "outputs": [],
      "source": [
        "# the PREDICTION is done using the TEST data\n",
        "y_pred_test = NBModel.predict(x_test)"
      ]
    },
    {
      "cell_type": "code",
      "execution_count": 28,
      "metadata": {},
      "outputs": [
        {
          "data": {
            "text/html": [
              "<div>\n",
              "<style scoped>\n",
              "    .dataframe tbody tr th:only-of-type {\n",
              "        vertical-align: middle;\n",
              "    }\n",
              "\n",
              "    .dataframe tbody tr th {\n",
              "        vertical-align: top;\n",
              "    }\n",
              "\n",
              "    .dataframe thead th {\n",
              "        text-align: right;\n",
              "    }\n",
              "</style>\n",
              "<table border=\"1\" class=\"dataframe\">\n",
              "  <thead>\n",
              "    <tr style=\"text-align: right;\">\n",
              "      <th></th>\n",
              "      <th>id</th>\n",
              "      <th>text</th>\n",
              "      <th>sex</th>\n",
              "      <th>age</th>\n",
              "      <th>event</th>\n",
              "      <th>event_ind</th>\n",
              "      <th>predictions</th>\n",
              "    </tr>\n",
              "  </thead>\n",
              "  <tbody>\n",
              "    <tr>\n",
              "      <th>0</th>\n",
              "      <td>130643</td>\n",
              "      <td>56YOF WITH HEMATOMA TO LEFT SIDE OF HEAD AFTER...</td>\n",
              "      <td>2</td>\n",
              "      <td>56</td>\n",
              "      <td>12</td>\n",
              "      <td>2</td>\n",
              "      <td>11</td>\n",
              "    </tr>\n",
              "    <tr>\n",
              "      <th>1</th>\n",
              "      <td>79309</td>\n",
              "      <td>61YOM SLIPPED WHILE WALKING OFF TRACTOR AT WOR...</td>\n",
              "      <td>1</td>\n",
              "      <td>61</td>\n",
              "      <td>43</td>\n",
              "      <td>19</td>\n",
              "      <td>43</td>\n",
              "    </tr>\n",
              "    <tr>\n",
              "      <th>2</th>\n",
              "      <td>9307</td>\n",
              "      <td>18 YOF SUS PUNCTURE TO FINGER ACCIDENTALLY PIE...</td>\n",
              "      <td>2</td>\n",
              "      <td>18</td>\n",
              "      <td>60</td>\n",
              "      <td>31</td>\n",
              "      <td>60</td>\n",
              "    </tr>\n",
              "    <tr>\n",
              "      <th>3</th>\n",
              "      <td>179615</td>\n",
              "      <td>16 YOF IS A LIFEGUARD AT A POOL  JUMPED IN THE...</td>\n",
              "      <td>2</td>\n",
              "      <td>16</td>\n",
              "      <td>44</td>\n",
              "      <td>20</td>\n",
              "      <td>73</td>\n",
              "    </tr>\n",
              "    <tr>\n",
              "      <th>4</th>\n",
              "      <td>18724</td>\n",
              "      <td>57YOF WORKS IN SURGERY WAS SITTING ON A STOOL ...</td>\n",
              "      <td>2</td>\n",
              "      <td>57</td>\n",
              "      <td>42</td>\n",
              "      <td>18</td>\n",
              "      <td>42</td>\n",
              "    </tr>\n",
              "    <tr>\n",
              "      <th>...</th>\n",
              "      <td>...</td>\n",
              "      <td>...</td>\n",
              "      <td>...</td>\n",
              "      <td>...</td>\n",
              "      <td>...</td>\n",
              "      <td>...</td>\n",
              "      <td>...</td>\n",
              "    </tr>\n",
              "    <tr>\n",
              "      <th>22977</th>\n",
              "      <td>148606</td>\n",
              "      <td>57YOM AT WORK WHEN A SHEET OF DRYWALL FELL ONT...</td>\n",
              "      <td>1</td>\n",
              "      <td>57</td>\n",
              "      <td>62</td>\n",
              "      <td>33</td>\n",
              "      <td>62</td>\n",
              "    </tr>\n",
              "    <tr>\n",
              "      <th>22978</th>\n",
              "      <td>17326</td>\n",
              "      <td>21YOM LIFTING STEEL AT WORK AND FELT LEFT SHOU...</td>\n",
              "      <td>1</td>\n",
              "      <td>21</td>\n",
              "      <td>71</td>\n",
              "      <td>41</td>\n",
              "      <td>71</td>\n",
              "    </tr>\n",
              "    <tr>\n",
              "      <th>22979</th>\n",
              "      <td>148941</td>\n",
              "      <td>55 YOF DX LOW BACK PAIN  S P AFTER TRANFERRING...</td>\n",
              "      <td>2</td>\n",
              "      <td>55</td>\n",
              "      <td>71</td>\n",
              "      <td>41</td>\n",
              "      <td>71</td>\n",
              "    </tr>\n",
              "    <tr>\n",
              "      <th>22980</th>\n",
              "      <td>168538</td>\n",
              "      <td>33YOM W EPIGASTRIC PAIN S P TAKING NSAIDS  ASA...</td>\n",
              "      <td>1</td>\n",
              "      <td>33</td>\n",
              "      <td>73</td>\n",
              "      <td>43</td>\n",
              "      <td>70</td>\n",
              "    </tr>\n",
              "    <tr>\n",
              "      <th>22981</th>\n",
              "      <td>10518</td>\n",
              "      <td>L KNEE SPR 20YOM SLIPPED AT WORK AND HURT L KNEE</td>\n",
              "      <td>1</td>\n",
              "      <td>20</td>\n",
              "      <td>41</td>\n",
              "      <td>17</td>\n",
              "      <td>42</td>\n",
              "    </tr>\n",
              "  </tbody>\n",
              "</table>\n",
              "<p>22982 rows × 7 columns</p>\n",
              "</div>"
            ],
            "text/plain": [
              "           id                                               text  sex  age  \\\n",
              "0      130643  56YOF WITH HEMATOMA TO LEFT SIDE OF HEAD AFTER...    2   56   \n",
              "1       79309  61YOM SLIPPED WHILE WALKING OFF TRACTOR AT WOR...    1   61   \n",
              "2        9307  18 YOF SUS PUNCTURE TO FINGER ACCIDENTALLY PIE...    2   18   \n",
              "3      179615  16 YOF IS A LIFEGUARD AT A POOL  JUMPED IN THE...    2   16   \n",
              "4       18724  57YOF WORKS IN SURGERY WAS SITTING ON A STOOL ...    2   57   \n",
              "...       ...                                                ...  ...  ...   \n",
              "22977  148606  57YOM AT WORK WHEN A SHEET OF DRYWALL FELL ONT...    1   57   \n",
              "22978   17326  21YOM LIFTING STEEL AT WORK AND FELT LEFT SHOU...    1   21   \n",
              "22979  148941  55 YOF DX LOW BACK PAIN  S P AFTER TRANFERRING...    2   55   \n",
              "22980  168538  33YOM W EPIGASTRIC PAIN S P TAKING NSAIDS  ASA...    1   33   \n",
              "22981   10518   L KNEE SPR 20YOM SLIPPED AT WORK AND HURT L KNEE    1   20   \n",
              "\n",
              "       event  event_ind  predictions  \n",
              "0         12          2           11  \n",
              "1         43         19           43  \n",
              "2         60         31           60  \n",
              "3         44         20           73  \n",
              "4         42         18           42  \n",
              "...      ...        ...          ...  \n",
              "22977     62         33           62  \n",
              "22978     71         41           71  \n",
              "22979     71         41           71  \n",
              "22980     73         43           70  \n",
              "22981     41         17           42  \n",
              "\n",
              "[22982 rows x 7 columns]"
            ]
          },
          "execution_count": 28,
          "metadata": {},
          "output_type": "execute_result"
        }
      ],
      "source": [
        "test_df_real[\"predictions\"] = y_pred_test\n",
        "test_df_real"
      ]
    },
    {
      "cell_type": "code",
      "execution_count": 30,
      "metadata": {
        "colab": {
          "base_uri": "https://localhost:8080/"
        },
        "id": "tllLIV8ok925",
        "outputId": "d8fd0b37-01a3-4d64-d24a-391241c478ba"
      },
      "outputs": [
        {
          "data": {
            "text/plain": [
              "73.14"
            ]
          },
          "execution_count": 30,
          "metadata": {},
          "output_type": "execute_result"
        }
      ],
      "source": [
        "accuracy = np.sum(y_test == y_pred_test) / x_test.shape[0] * 100\n",
        "round(accuracy, 2)"
      ]
    },
    {
      "cell_type": "markdown",
      "metadata": {},
      "source": [
        "#### Dev Set predictions and Accuracy"
      ]
    },
    {
      "cell_type": "code",
      "execution_count": 32,
      "metadata": {},
      "outputs": [
        {
          "name": "stdout",
          "output_type": "stream",
          "text": [
            "22982\n",
            "['34', '##yo', '##m', 'lifting', 'boxes', 'at', 'work', 'over', 'use', 'of', 'hand', 'd', '##x', 'car', '##pal', 'tunnel', 'syndrome']\n"
          ]
        }
      ],
      "source": [
        "dev_report_l = dev_df_real[\"text\"].tolist()\n",
        "dev_corpus = [tokenizer.tokenize(report.lower()) for report in dev_report_l]\n",
        "print(len(dev_corpus))\n",
        "print(dev_corpus[0])"
      ]
    },
    {
      "cell_type": "code",
      "execution_count": 34,
      "metadata": {},
      "outputs": [],
      "source": [
        "x_test_dev = np.empty((len(dev_corpus), len(all_toks)))\n",
        "y_test_dev = dev_df_real[\"event\"].to_numpy()\n",
        "\n",
        "# looping over the training corpus\n",
        "for si in range(len(dev_corpus)):\n",
        "    word_count_sent_dev = np.zeros(len(all_toks))\n",
        "    # loop over tokens in the sentence\n",
        "    for tok in dev_corpus[si]:\n",
        "        tokInd = MapTokInd(tok, tok_id_d)\n",
        "        word_count_sent_dev[tokInd] += 1\n",
        "    x_test_dev[si] = word_count_sent_dev"
      ]
    },
    {
      "cell_type": "code",
      "execution_count": 35,
      "metadata": {},
      "outputs": [],
      "source": [
        "# the PREDICTION is done using the TEST data\n",
        "\n",
        "y_pred_dev = NBModel.predict(x_test_dev)"
      ]
    },
    {
      "cell_type": "code",
      "execution_count": 37,
      "metadata": {},
      "outputs": [
        {
          "data": {
            "text/plain": [
              "73.13"
            ]
          },
          "execution_count": 37,
          "metadata": {},
          "output_type": "execute_result"
        }
      ],
      "source": [
        "accuracy = np.sum(y_test_dev == y_pred_dev) / x_test_dev.shape[0] * 100\n",
        "round(accuracy, 2)"
      ]
    }
  ],
  "metadata": {
    "colab": {
      "provenance": []
    },
    "kernelspec": {
      "display_name": "Python 3",
      "name": "python3"
    },
    "language_info": {
      "codemirror_mode": {
        "name": "ipython",
        "version": 3
      },
      "file_extension": ".py",
      "mimetype": "text/x-python",
      "name": "python",
      "nbconvert_exporter": "python",
      "pygments_lexer": "ipython3",
      "version": "3.10.12"
    }
  },
  "nbformat": 4,
  "nbformat_minor": 0
}
