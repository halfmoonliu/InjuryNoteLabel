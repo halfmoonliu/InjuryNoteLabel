{
 "cells": [
  {
   "cell_type": "markdown",
   "metadata": {},
   "source": [
    "# Generated Data Predictions"
   ]
  },
  {
   "cell_type": "markdown",
   "metadata": {},
   "source": [
    "Importing dependecies for the synthetic dataset to be used "
   ]
  },
  {
   "cell_type": "code",
   "execution_count": 1,
   "metadata": {},
   "outputs": [],
   "source": [
    "import pandas as pd\n",
    "import numpy as np\n",
    "from transformers import BertTokenizer\n",
    "from sklearn.naive_bayes import MultinomialNB\n",
    "from sklearn import metrics\n",
    "import time"
   ]
  },
  {
   "cell_type": "markdown",
   "metadata": {},
   "source": [
    "The link to the dataset which has been categorised into the `train data`, `test data` and finally the `developmental set data`."
   ]
  },
  {
   "cell_type": "code",
   "execution_count": 2,
   "metadata": {},
   "outputs": [],
   "source": [
    "train_df = pd.read_csv(\n",
    "    \"https://raw.githubusercontent.com/halfmoonliu/InjuryNoteLabel/main/Data/TrainSetGen.csv\"\n",
    ")\n",
    "test_df = pd.read_csv(\n",
    "    \"https://raw.githubusercontent.com/halfmoonliu/InjuryNoteLabel/main/Data/TestSetGen.csv\"\n",
    ")\n",
    "dev_df = pd.read_csv(\n",
    "    \"https://raw.githubusercontent.com/halfmoonliu/InjuryNoteLabel/main/Data/DevSetGen.csv\"\n",
    ")"
   ]
  },
  {
   "cell_type": "code",
   "execution_count": 3,
   "metadata": {},
   "outputs": [],
   "source": [
    "# import matplotlib.pyplot as plt\n",
    "# train_df['event'].hist()\n",
    "\n",
    "# # Adding titles and labels to the histogram\n",
    "# plt.title('Event Distribution in Synthetic Data')\n",
    "# plt.xlabel('Event')\n",
    "# plt.ylabel('Frequency')\n",
    "\n",
    "# plt.show()"
   ]
  },
  {
   "cell_type": "markdown",
   "metadata": {},
   "source": [
    "#### Tokenisation"
   ]
  },
  {
   "cell_type": "markdown",
   "metadata": {},
   "source": [
    "tokenising synthetic dataset using the Bert Model"
   ]
  },
  {
   "cell_type": "code",
   "execution_count": 4,
   "metadata": {},
   "outputs": [],
   "source": [
    "# load pretrained tokenizer\n",
    "PRE_TRAINED_MODEL_NAME = \"bert-base-cased\"\n",
    "tokenizer = BertTokenizer.from_pretrained(PRE_TRAINED_MODEL_NAME)"
   ]
  },
  {
   "cell_type": "markdown",
   "metadata": {},
   "source": [
    "#### Training the synthetic dataset"
   ]
  },
  {
   "cell_type": "code",
   "execution_count": 5,
   "metadata": {},
   "outputs": [
    {
     "name": "stdout",
     "output_type": "stream",
     "text": [
      "183856\n",
      "['37', 'works', 'd', 'shoulder', '#', '#', 'f', 'as', 's', 'at', 'p', '#', '#', 'pet', '2', '1', 'upper', 'with', 'car', '39', 'back', 'shoulder', 'tight', 'his', 'fire', '#', '#', 'u', '##ro', 'r', 'day', 'yo', 'worse', 'pain', 'yo', '#', '#', 'f', 'hands', 'noticed', 'hard', 'o', 'living', 'strain', '#', '#', 'm', '31', '41', 'leg', 'motion', 'hands', 'pain', 'does', '28', 'm', 'but', 'construction', 'work', 'bent', '43', 'while', 'at', 'back', 'factory', '#', '#', 't', '##re', '#', '#', 'm', 'at', '49', 'cook', 'works']\n"
     ]
    }
   ],
   "source": [
    "# Create injury report corpus, i.e. list of lists of totokenized\n",
    "# make it lower casings and tokenise\n",
    "\n",
    "train_report_l = train_df[\"text\"].tolist()\n",
    "training_corpus = [tokenizer.tokenize(report.lower()) for report in train_report_l]\n",
    "print(len(training_corpus))  # checking the length of tokens\n",
    "print(training_corpus[0])  # printing the list of the first tokens"
   ]
  },
  {
   "cell_type": "code",
   "execution_count": 6,
   "metadata": {},
   "outputs": [],
   "source": [
    "# create training vocab dictionary\n",
    "tok_ind = 0  # numbering for dictionary\n",
    "tok_id_d = dict()  # map token to token_ind\n",
    "id_tok_d = dict()  # map token_ind to token\n",
    "\n",
    "# looping over the training corpus\n",
    "for si in range(len(training_corpus)):\n",
    "    # loop over tokens in the sentence\n",
    "    for tok in training_corpus[si]:\n",
    "        # update vocab dict\n",
    "        if tok not in tok_id_d:\n",
    "            tok_id_d[tok] = tok_ind\n",
    "            id_tok_d[tok_ind] = tok\n",
    "            # update token index\n",
    "            tok_ind += 1\n",
    "tok_id_d[\"UNK\"] = tok_ind  # if its not in the training corpus assign it to \"UNK\"\n",
    "id_tok_d[tok_ind] = \"UNK\""
   ]
  },
  {
   "cell_type": "code",
   "execution_count": null,
   "metadata": {},
   "outputs": [],
   "source": []
  },
  {
   "cell_type": "code",
   "execution_count": 7,
   "metadata": {},
   "outputs": [
    {
     "name": "stdout",
     "output_type": "stream",
     "text": [
      "length of the vocabulary:\n",
      "7475\n",
      "7474\n",
      "chains\n"
     ]
    }
   ],
   "source": [
    "# get vocab length\n",
    "all_toks = id_tok_d.keys()\n",
    "print(\"length of the vocabulary:\")\n",
    "print(len(all_toks))\n",
    "print(tok_id_d[\"UNK\"])\n",
    "print(id_tok_d[1000])"
   ]
  },
  {
   "cell_type": "markdown",
   "metadata": {},
   "source": [
    "#### Preparring the synthetic dataset"
   ]
  },
  {
   "cell_type": "code",
   "execution_count": 8,
   "metadata": {},
   "outputs": [],
   "source": [
    "def MapTokInd(tok, tokMap):\n",
    "    if tok in tokMap:\n",
    "        return tokMap[tok]\n",
    "    else:\n",
    "        return tokMap[\"UNK\"]"
   ]
  },
  {
   "cell_type": "code",
   "execution_count": 9,
   "metadata": {},
   "outputs": [],
   "source": [
    "# create x_train, y_train\n",
    "train_corpus_frag = training_corpus\n",
    "x_train = np.empty((len(train_corpus_frag), len(all_toks)))\n",
    "y_train = train_df[\"event\"].to_numpy()\n",
    "\n",
    "# looping over the training corpus\n",
    "for si in range(len(train_corpus_frag)):\n",
    "    word_count_sent = np.zeros(len(all_toks))\n",
    "    # loop over tokens in the sentence\n",
    "    for tok in training_corpus[si]:\n",
    "        tokInd = MapTokInd(tok, tok_id_d)\n",
    "        word_count_sent[tokInd] += 1\n",
    "    x_train[si] = word_count_sent"
   ]
  },
  {
   "cell_type": "code",
   "execution_count": 10,
   "metadata": {},
   "outputs": [
    {
     "name": "stdout",
     "output_type": "stream",
     "text": [
      "Time spent training the corpus: 11.92273211479187 seconds\n"
     ]
    }
   ],
   "source": [
    "NBModel = MultinomialNB()\n",
    "\n",
    "\n",
    "start_time = time.time()\n",
    "\n",
    "NBModel.fit(x_train, y_train)\n",
    "\n",
    "# Record the end time\n",
    "end_time = time.time()\n",
    "\n",
    "# Calculate and print the time spent\n",
    "elapsed_time = end_time - start_time\n",
    "print(f\"Time spent training the corpus: {elapsed_time} seconds\")"
   ]
  },
  {
   "cell_type": "markdown",
   "metadata": {},
   "source": [
    "#### Training Accuracy and Predictions\n"
   ]
  },
  {
   "cell_type": "code",
   "execution_count": 11,
   "metadata": {},
   "outputs": [
    {
     "name": "stdout",
     "output_type": "stream",
     "text": [
      "Training Accuracy: 0.9163856496388478\n"
     ]
    }
   ],
   "source": [
    "# Predict labels for the training data\n",
    "y_train_pred = NBModel.predict(x_train)\n",
    "\n",
    "# Calculate accuracy on the training data\n",
    "train_accuracy = np.sum(y_train == y_train_pred) / x_train.shape[0]\n",
    "\n",
    "print(\"Training Accuracy:\", train_accuracy)"
   ]
  },
  {
   "cell_type": "markdown",
   "metadata": {},
   "source": [
    "#### Test Set Accuracy and Predictions"
   ]
  },
  {
   "cell_type": "code",
   "execution_count": 12,
   "metadata": {},
   "outputs": [
    {
     "name": "stdout",
     "output_type": "stream",
     "text": [
      "22982\n",
      "['patient', '#', '#', 's', '51', 'and', '32', 'o', '#', '#', 'x', '#', '#', 't', '#', '#', 'f', 'wrist', '#', '#', 'f', '4', '#', '#', 'yo', 'and', 'lifting', 'bakery', '29', 'back', 'ne', '#', '#', 'y', '##m', 'upper', '#', '#', 'um', '##ba', '#', '#', 'r', '##s', 'and', 'at', 's', 'd', '#', '#', 'c', '#', '#', 'm', 'l', '#', '#', 'x', 'who', 'to', 'at', 'strain', 'r', '35', '50', 'of', 'strained', 'work', 'and', 'of']\n"
     ]
    }
   ],
   "source": [
    "# Create test corpus\n",
    "\n",
    "test_report_l = test_df[\"text\"].tolist()\n",
    "test_corpus = [tokenizer.tokenize(report.lower()) for report in test_report_l]\n",
    "print(len(test_corpus))\n",
    "print(test_corpus[0])"
   ]
  },
  {
   "cell_type": "code",
   "execution_count": 13,
   "metadata": {},
   "outputs": [],
   "source": [
    "x_test = np.empty((len(test_corpus), len(all_toks)))\n",
    "y_test = test_df[\"event\"].to_numpy()\n",
    "\n",
    "# looping over the training corpus\n",
    "for si in range(len(test_corpus)):\n",
    "    word_count_sent = np.zeros(len(all_toks))\n",
    "    # loop over tokens in the sentence\n",
    "    for tok in test_corpus[si]:\n",
    "        tokInd = MapTokInd(tok, tok_id_d)\n",
    "        word_count_sent[tokInd] += 1\n",
    "    x_test[si] = word_count_sent"
   ]
  },
  {
   "cell_type": "code",
   "execution_count": 14,
   "metadata": {},
   "outputs": [],
   "source": [
    "# the PREDICTION is done using the TEST data\n",
    "\n",
    "y_pred = NBModel.predict(x_test)"
   ]
  },
  {
   "cell_type": "code",
   "execution_count": 15,
   "metadata": {},
   "outputs": [
    {
     "data": {
      "text/plain": [
       "array([71, 63, 63, ..., 55, 27, 99])"
      ]
     },
     "execution_count": 15,
     "metadata": {},
     "output_type": "execute_result"
    }
   ],
   "source": [
    "y_pred"
   ]
  },
  {
   "cell_type": "code",
   "execution_count": 16,
   "metadata": {},
   "outputs": [
    {
     "data": {
      "text/plain": [
       "90.7666869724132"
      ]
     },
     "execution_count": 16,
     "metadata": {},
     "output_type": "execute_result"
    }
   ],
   "source": [
    "accuracy = np.sum(y_test == y_pred) / x_test.shape[0] * 100\n",
    "accuracy"
   ]
  },
  {
   "cell_type": "code",
   "execution_count": 17,
   "metadata": {},
   "outputs": [
    {
     "data": {
      "text/html": [
       "<div>\n",
       "<style scoped>\n",
       "    .dataframe tbody tr th:only-of-type {\n",
       "        vertical-align: middle;\n",
       "    }\n",
       "\n",
       "    .dataframe tbody tr th {\n",
       "        vertical-align: top;\n",
       "    }\n",
       "\n",
       "    .dataframe thead th {\n",
       "        text-align: right;\n",
       "    }\n",
       "</style>\n",
       "<table border=\"1\" class=\"dataframe\">\n",
       "  <thead>\n",
       "    <tr style=\"text-align: right;\">\n",
       "      <th></th>\n",
       "      <th>id</th>\n",
       "      <th>text</th>\n",
       "      <th>event</th>\n",
       "      <th>event_ind</th>\n",
       "      <th>test predictions</th>\n",
       "    </tr>\n",
       "  </thead>\n",
       "  <tbody>\n",
       "    <tr>\n",
       "      <th>0</th>\n",
       "      <td>11826</td>\n",
       "      <td>patient ##s 51 and 32 o ##x ##t ##f wrist ##f ...</td>\n",
       "      <td>71</td>\n",
       "      <td>41</td>\n",
       "      <td>71</td>\n",
       "    </tr>\n",
       "    <tr>\n",
       "      <th>1</th>\n",
       "      <td>10112</td>\n",
       "      <td>striking male ##ture d finger concussion la at...</td>\n",
       "      <td>63</td>\n",
       "      <td>34</td>\n",
       "      <td>63</td>\n",
       "    </tr>\n",
       "    <tr>\n",
       "      <th>2</th>\n",
       "      <td>2165</td>\n",
       "      <td>metal 19 r on while while wound ##m ##c finger...</td>\n",
       "      <td>63</td>\n",
       "      <td>34</td>\n",
       "      <td>63</td>\n",
       "    </tr>\n",
       "    <tr>\n",
       "      <th>3</th>\n",
       "      <td>28845</td>\n",
       "      <td>##ym work ##yo o a pain neck which pain lower ...</td>\n",
       "      <td>71</td>\n",
       "      <td>41</td>\n",
       "      <td>71</td>\n",
       "    </tr>\n",
       "    <tr>\n",
       "      <th>4</th>\n",
       "      <td>16989</td>\n",
       "      <td>l when construction ##on ##x bucket lifting ##...</td>\n",
       "      <td>71</td>\n",
       "      <td>41</td>\n",
       "      <td>71</td>\n",
       "    </tr>\n",
       "    <tr>\n",
       "      <th>...</th>\n",
       "      <td>...</td>\n",
       "      <td>...</td>\n",
       "      <td>...</td>\n",
       "      <td>...</td>\n",
       "      <td>...</td>\n",
       "    </tr>\n",
       "    <tr>\n",
       "      <th>22977</th>\n",
       "      <td>13437</td>\n",
       "      <td>wound w of urine when body ##w eye was ##l ##t...</td>\n",
       "      <td>55</td>\n",
       "      <td>28</td>\n",
       "      <td>55</td>\n",
       "    </tr>\n",
       "    <tr>\n",
       "      <th>22978</th>\n",
       "      <td>381</td>\n",
       "      <td>ankle 40 p 59 at ##pra leg last w rolled ##in ...</td>\n",
       "      <td>41</td>\n",
       "      <td>17</td>\n",
       "      <td>41</td>\n",
       "    </tr>\n",
       "    <tr>\n",
       "      <th>22979</th>\n",
       "      <td>9819</td>\n",
       "      <td>the ##ing s up soap ##t work her needle stick ...</td>\n",
       "      <td>55</td>\n",
       "      <td>28</td>\n",
       "      <td>55</td>\n",
       "    </tr>\n",
       "    <tr>\n",
       "      <th>22980</th>\n",
       "      <td>326</td>\n",
       "      <td>a 4th him video woods to ##x over ##en i drive...</td>\n",
       "      <td>27</td>\n",
       "      <td>11</td>\n",
       "      <td>27</td>\n",
       "    </tr>\n",
       "    <tr>\n",
       "      <th>22981</th>\n",
       "      <td>95</td>\n",
       "      <td>is from d on ##tus at con work p work x ##his ...</td>\n",
       "      <td>99</td>\n",
       "      <td>47</td>\n",
       "      <td>99</td>\n",
       "    </tr>\n",
       "  </tbody>\n",
       "</table>\n",
       "<p>22982 rows × 5 columns</p>\n",
       "</div>"
      ],
      "text/plain": [
       "          id                                               text  event  \\\n",
       "0      11826  patient ##s 51 and 32 o ##x ##t ##f wrist ##f ...     71   \n",
       "1      10112  striking male ##ture d finger concussion la at...     63   \n",
       "2       2165  metal 19 r on while while wound ##m ##c finger...     63   \n",
       "3      28845  ##ym work ##yo o a pain neck which pain lower ...     71   \n",
       "4      16989  l when construction ##on ##x bucket lifting ##...     71   \n",
       "...      ...                                                ...    ...   \n",
       "22977  13437  wound w of urine when body ##w eye was ##l ##t...     55   \n",
       "22978    381  ankle 40 p 59 at ##pra leg last w rolled ##in ...     41   \n",
       "22979   9819  the ##ing s up soap ##t work her needle stick ...     55   \n",
       "22980    326  a 4th him video woods to ##x over ##en i drive...     27   \n",
       "22981     95  is from d on ##tus at con work p work x ##his ...     99   \n",
       "\n",
       "       event_ind  test predictions  \n",
       "0             41                71  \n",
       "1             34                63  \n",
       "2             34                63  \n",
       "3             41                71  \n",
       "4             41                71  \n",
       "...          ...               ...  \n",
       "22977         28                55  \n",
       "22978         17                41  \n",
       "22979         28                55  \n",
       "22980         11                27  \n",
       "22981         47                99  \n",
       "\n",
       "[22982 rows x 5 columns]"
      ]
     },
     "execution_count": 17,
     "metadata": {},
     "output_type": "execute_result"
    }
   ],
   "source": [
    "test_df[\"test predictions\"] = y_pred\n",
    "test_df"
   ]
  },
  {
   "cell_type": "markdown",
   "metadata": {},
   "source": [
    "#### Checking the accuracy for the dev set"
   ]
  },
  {
   "cell_type": "code",
   "execution_count": 18,
   "metadata": {},
   "outputs": [
    {
     "name": "stdout",
     "output_type": "stream",
     "text": [
      "22982\n",
      "['radiating', '26', '#', '#', 'm', 'back', 'at', 'and', 'work', 'd', 'l', '33', '#', '#', 'p', '##ra', '#', '#', 'in', 'sitting', '#', '#', 'x', 'd', 'd', 'went', 'foot', 'ankle', '#', '#', 'x', 'w', 'p', 'facility', 'work', 'works', 'o', 'on', 'climbs', 'd', 'just', 'and', 'work', 'injury', '30', 'shelf', 'muscle', 'time', 'has', 'she', 'o', 'when']\n"
     ]
    }
   ],
   "source": [
    "dev_report_l = dev_df[\"text\"].tolist()\n",
    "dev_corpus = [tokenizer.tokenize(report.lower()) for report in dev_report_l]\n",
    "print(len(dev_corpus))\n",
    "print(dev_corpus[0])"
   ]
  },
  {
   "cell_type": "code",
   "execution_count": 19,
   "metadata": {},
   "outputs": [],
   "source": [
    "x_test_dev = np.empty((len(dev_corpus), len(all_toks)))\n",
    "y_test_dev = dev_df[\"event\"].to_numpy()\n",
    "\n",
    "# looping over the training corpus\n",
    "for si in range(len(dev_corpus)):\n",
    "    word_count_sent_dev = np.zeros(len(all_toks))\n",
    "    # loop over tokens in the sentence\n",
    "    for tok in dev_corpus[si]:\n",
    "        tokInd = MapTokInd(tok, tok_id_d)\n",
    "        word_count_sent_dev[tokInd] += 1\n",
    "    x_test_dev[si] = word_count_sent_dev"
   ]
  },
  {
   "cell_type": "code",
   "execution_count": 20,
   "metadata": {},
   "outputs": [],
   "source": [
    "# the PREDICTION is done using the TEST data\n",
    "\n",
    "y_pred_dev = NBModel.predict(x_test_dev)"
   ]
  },
  {
   "cell_type": "code",
   "execution_count": 23,
   "metadata": {},
   "outputs": [
    {
     "data": {
      "text/html": [
       "<div>\n",
       "<style scoped>\n",
       "    .dataframe tbody tr th:only-of-type {\n",
       "        vertical-align: middle;\n",
       "    }\n",
       "\n",
       "    .dataframe tbody tr th {\n",
       "        vertical-align: top;\n",
       "    }\n",
       "\n",
       "    .dataframe thead th {\n",
       "        text-align: right;\n",
       "    }\n",
       "</style>\n",
       "<table border=\"1\" class=\"dataframe\">\n",
       "  <thead>\n",
       "    <tr style=\"text-align: right;\">\n",
       "      <th></th>\n",
       "      <th>id</th>\n",
       "      <th>text</th>\n",
       "      <th>event</th>\n",
       "      <th>event_ind</th>\n",
       "      <th>predictions</th>\n",
       "    </tr>\n",
       "  </thead>\n",
       "  <tbody>\n",
       "    <tr>\n",
       "      <th>0</th>\n",
       "      <td>4139</td>\n",
       "      <td>radiating 26 ##m back at and work d l 33 ##pra...</td>\n",
       "      <td>73</td>\n",
       "      <td>43</td>\n",
       "      <td>73</td>\n",
       "    </tr>\n",
       "    <tr>\n",
       "      <th>1</th>\n",
       "      <td>10073</td>\n",
       "      <td>##mento robe pain days ##to states was cars ##...</td>\n",
       "      <td>73</td>\n",
       "      <td>43</td>\n",
       "      <td>73</td>\n",
       "    </tr>\n",
       "    <tr>\n",
       "      <th>2</th>\n",
       "      <td>20004</td>\n",
       "      <td>work l chest ankle con o if at fell knee knee ...</td>\n",
       "      <td>42</td>\n",
       "      <td>18</td>\n",
       "      <td>42</td>\n",
       "    </tr>\n",
       "    <tr>\n",
       "      <th>3</th>\n",
       "      <td>36266</td>\n",
       "      <td>drill work ##m to 17 tire opening in using on ...</td>\n",
       "      <td>62</td>\n",
       "      <td>33</td>\n",
       "      <td>62</td>\n",
       "    </tr>\n",
       "    <tr>\n",
       "      <th>4</th>\n",
       "      <td>22571</td>\n",
       "      <td>56 ##al m toe work left back ##ture ##tus con ...</td>\n",
       "      <td>62</td>\n",
       "      <td>33</td>\n",
       "      <td>62</td>\n",
       "    </tr>\n",
       "    <tr>\n",
       "      <th>...</th>\n",
       "      <td>...</td>\n",
       "      <td>...</td>\n",
       "      <td>...</td>\n",
       "      <td>...</td>\n",
       "      <td>...</td>\n",
       "    </tr>\n",
       "    <tr>\n",
       "      <th>22977</th>\n",
       "      <td>5734</td>\n",
       "      <td>def got machine ##g ##bra ##d 2 lace thumb dis...</td>\n",
       "      <td>64</td>\n",
       "      <td>35</td>\n",
       "      <td>64</td>\n",
       "    </tr>\n",
       "    <tr>\n",
       "      <th>22978</th>\n",
       "      <td>27513</td>\n",
       "      <td>his him thigh f grin closed con</td>\n",
       "      <td>62</td>\n",
       "      <td>33</td>\n",
       "      <td>62</td>\n",
       "    </tr>\n",
       "    <tr>\n",
       "      <th>22979</th>\n",
       "      <td>1624</td>\n",
       "      <td>when ##fo o o l w work pain his ##yo at ##m ##...</td>\n",
       "      <td>70</td>\n",
       "      <td>40</td>\n",
       "      <td>71</td>\n",
       "    </tr>\n",
       "    <tr>\n",
       "      <th>22980</th>\n",
       "      <td>10704</td>\n",
       "      <td>open ##x ##l wood wood today 15 water her ##yo...</td>\n",
       "      <td>62</td>\n",
       "      <td>33</td>\n",
       "      <td>62</td>\n",
       "    </tr>\n",
       "    <tr>\n",
       "      <th>22981</th>\n",
       "      <td>1301</td>\n",
       "      <td>33 death just truck ##m passenger pain in air ...</td>\n",
       "      <td>26</td>\n",
       "      <td>10</td>\n",
       "      <td>26</td>\n",
       "    </tr>\n",
       "  </tbody>\n",
       "</table>\n",
       "<p>22982 rows × 5 columns</p>\n",
       "</div>"
      ],
      "text/plain": [
       "          id                                               text  event  \\\n",
       "0       4139  radiating 26 ##m back at and work d l 33 ##pra...     73   \n",
       "1      10073  ##mento robe pain days ##to states was cars ##...     73   \n",
       "2      20004  work l chest ankle con o if at fell knee knee ...     42   \n",
       "3      36266  drill work ##m to 17 tire opening in using on ...     62   \n",
       "4      22571  56 ##al m toe work left back ##ture ##tus con ...     62   \n",
       "...      ...                                                ...    ...   \n",
       "22977   5734  def got machine ##g ##bra ##d 2 lace thumb dis...     64   \n",
       "22978  27513                    his him thigh f grin closed con     62   \n",
       "22979   1624  when ##fo o o l w work pain his ##yo at ##m ##...     70   \n",
       "22980  10704  open ##x ##l wood wood today 15 water her ##yo...     62   \n",
       "22981   1301  33 death just truck ##m passenger pain in air ...     26   \n",
       "\n",
       "       event_ind  predictions  \n",
       "0             43           73  \n",
       "1             43           73  \n",
       "2             18           42  \n",
       "3             33           62  \n",
       "4             33           62  \n",
       "...          ...          ...  \n",
       "22977         35           64  \n",
       "22978         33           62  \n",
       "22979         40           71  \n",
       "22980         33           62  \n",
       "22981         10           26  \n",
       "\n",
       "[22982 rows x 5 columns]"
      ]
     },
     "execution_count": 23,
     "metadata": {},
     "output_type": "execute_result"
    }
   ],
   "source": [
    "dev_df[\"predictions\"] = y_pred_dev\n",
    "dev_df"
   ]
  },
  {
   "cell_type": "code",
   "execution_count": 22,
   "metadata": {},
   "outputs": [
    {
     "data": {
      "text/plain": [
       "0.9086676529457837"
      ]
     },
     "execution_count": 22,
     "metadata": {},
     "output_type": "execute_result"
    }
   ],
   "source": [
    "accuracy = np.sum(y_test_dev == y_pred_dev) / x_test_dev.shape[0]\n",
    "accuracy"
   ]
  }
 ],
 "metadata": {
  "kernelspec": {
   "display_name": "base",
   "language": "python",
   "name": "python3"
  },
  "language_info": {
   "codemirror_mode": {
    "name": "ipython",
    "version": 3
   },
   "file_extension": ".py",
   "mimetype": "text/x-python",
   "name": "python",
   "nbconvert_exporter": "python",
   "pygments_lexer": "ipython3",
   "version": "3.10.12"
  }
 },
 "nbformat": 4,
 "nbformat_minor": 2
}
