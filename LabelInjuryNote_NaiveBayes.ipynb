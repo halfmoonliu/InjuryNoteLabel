{
  "cells": [
    {
      "cell_type": "markdown",
      "metadata": {
        "id": "4VpUlE2NqxKb"
      },
      "source": [
        "## Label Injnury Narratives Using Generative and Deep Learning Models\n",
        "This Notebook demonstrates how to use **Naïve bayes** to do **document classification** using real-world and synthesized data. **The document classification task is to label a piece of injury narrative with the type of injury** to each narrative."
      ]
    },
    {
      "cell_type": "markdown",
      "metadata": {
        "id": "cwE1irDVq4eN"
      },
      "source": [
        "### Dataset\n",
        "The dataset used is from a competition organized by NASA-Tournament Lab and National Institute for Occupational Safety & Health (NIOSH). The goal is to automate the processing of data in occupational safety and health (OSH) surveillance systems. Specifically, given a free text injury report, such as \"*worker fell from the ladder after reaching out for a box.*” , the task is to **assign a injury code** from the Occupational Injuries and Illnesses Classification System (OIICS). The details of the task and competition can be found in a [blogpost](https://blogs.cdc.gov/niosh-science-blog/2020/02/26/ai-crowdsourcing/) by CDC (Center for Disease Control). The dataset is downloaded from [hugging face](https://huggingface.co/datasets/mayerantoine/injury-narrative-coding). The winning solutions can be found on [NASA Tournament Lab's Github Page](https://github.com/NASA-Tournament-Lab/CDC-NLP-Occ-Injury-Coding)."
      ]
    },
    {
      "cell_type": "code",
      "execution_count": 1,
      "metadata": {
        "id": "wZsNmYxTVbgQ"
      },
      "outputs": [],
      "source": [
        "# import libraries\n",
        "#!pip install -r requirements.txt\n",
        "import matplotlib.pyplot as plt\n",
        "import numpy as np\n",
        "import pandas as pd\n",
        "from sklearn.naive_bayes import MultinomialNB\n",
        "from sklearn import metrics\n",
        "from transformers import BertTokenizer\n",
        "import time"
      ]
    },
    {
      "cell_type": "markdown",
      "metadata": {
        "id": "bkOi_UCftAsM"
      },
      "source": [
        "#### Load the dataset\n",
        "The dataset used is stored on github in *csv* format. We first read the dataset as a *pandas dataframe*, and split them into **train, development, and test sets**."
      ]
    },
    {
      "cell_type": "code",
      "execution_count": 2,
      "metadata": {
        "id": "Y5tHOkQkVsLE"
      },
      "outputs": [],
      "source": [
        "# load dataset\n",
        "url = \"https://raw.githubusercontent.com/halfmoonliu/InjuryNoteLabel/main/Data/full_dataset.csv\"\n",
        "Dataset = pd.read_csv(url)"
      ]
    },
    {
      "cell_type": "code",
      "execution_count": 3,
      "metadata": {
        "colab": {
          "base_uri": "https://localhost:8080/",
          "height": 204
        },
        "id": "dNMRMHYL6RJS",
        "outputId": "bd6b6c7f-6ceb-41ad-8b09-ee3044776407"
      },
      "outputs": [
        {
          "data": {
            "text/html": [
              "<div>\n",
              "<style scoped>\n",
              "    .dataframe tbody tr th:only-of-type {\n",
              "        vertical-align: middle;\n",
              "    }\n",
              "\n",
              "    .dataframe tbody tr th {\n",
              "        vertical-align: top;\n",
              "    }\n",
              "\n",
              "    .dataframe thead th {\n",
              "        text-align: right;\n",
              "    }\n",
              "</style>\n",
              "<table border=\"1\" class=\"dataframe\">\n",
              "  <thead>\n",
              "    <tr style=\"text-align: right;\">\n",
              "      <th></th>\n",
              "      <th>id</th>\n",
              "      <th>text</th>\n",
              "      <th>sex</th>\n",
              "      <th>age</th>\n",
              "      <th>event</th>\n",
              "      <th>event_ind</th>\n",
              "    </tr>\n",
              "  </thead>\n",
              "  <tbody>\n",
              "    <tr>\n",
              "      <th>0</th>\n",
              "      <td>1</td>\n",
              "      <td>34YOM LIFTING BOXES AT WORK OVER USE OF HAND D...</td>\n",
              "      <td>1</td>\n",
              "      <td>34</td>\n",
              "      <td>71</td>\n",
              "      <td>41</td>\n",
              "    </tr>\n",
              "    <tr>\n",
              "      <th>1</th>\n",
              "      <td>2</td>\n",
              "      <td>A 28YOF BURNED ARM ON HOT GRILL AT WORK</td>\n",
              "      <td>2</td>\n",
              "      <td>28</td>\n",
              "      <td>53</td>\n",
              "      <td>26</td>\n",
              "    </tr>\n",
              "    <tr>\n",
              "      <th>2</th>\n",
              "      <td>3</td>\n",
              "      <td>A 67YOF WAS CLEANING AROUND CHAIRS IN SURGERY ...</td>\n",
              "      <td>2</td>\n",
              "      <td>67</td>\n",
              "      <td>55</td>\n",
              "      <td>28</td>\n",
              "    </tr>\n",
              "    <tr>\n",
              "      <th>3</th>\n",
              "      <td>4</td>\n",
              "      <td>24YF INJURED AT WORK REC INJURY WHEN TEST TUBE...</td>\n",
              "      <td>2</td>\n",
              "      <td>24</td>\n",
              "      <td>62</td>\n",
              "      <td>33</td>\n",
              "    </tr>\n",
              "    <tr>\n",
              "      <th>4</th>\n",
              "      <td>5</td>\n",
              "      <td>24YOF HAD A DRAWER FALL ON FINGER AT WORK     ...</td>\n",
              "      <td>2</td>\n",
              "      <td>24</td>\n",
              "      <td>62</td>\n",
              "      <td>33</td>\n",
              "    </tr>\n",
              "  </tbody>\n",
              "</table>\n",
              "</div>"
            ],
            "text/plain": [
              "   id                                               text  sex  age  event  \\\n",
              "0   1  34YOM LIFTING BOXES AT WORK OVER USE OF HAND D...    1   34     71   \n",
              "1   2            A 28YOF BURNED ARM ON HOT GRILL AT WORK    2   28     53   \n",
              "2   3  A 67YOF WAS CLEANING AROUND CHAIRS IN SURGERY ...    2   67     55   \n",
              "3   4  24YF INJURED AT WORK REC INJURY WHEN TEST TUBE...    2   24     62   \n",
              "4   5  24YOF HAD A DRAWER FALL ON FINGER AT WORK     ...    2   24     62   \n",
              "\n",
              "   event_ind  \n",
              "0         41  \n",
              "1         26  \n",
              "2         28  \n",
              "3         33  \n",
              "4         33  "
            ]
          },
          "execution_count": 3,
          "metadata": {},
          "output_type": "execute_result"
        }
      ],
      "source": [
        "# Transfer event to event_ind\n",
        "Unique_event_l = Dataset[\"event\"].unique().tolist()\n",
        "Unique_event_l = sorted(Unique_event_l)\n",
        "\n",
        "# create event dictionary to map event to a number between 0-47 for NN model\n",
        "ind_event_dict = dict()\n",
        "event_ind_dict = dict()\n",
        "for i in range(len(Unique_event_l)):\n",
        "    ind_event_dict[i] = Unique_event_l[i]\n",
        "    event_ind_dict[Unique_event_l[i]] = i\n",
        "\n",
        "\n",
        "def mapEvent(eventRaw):\n",
        "    return event_ind_dict[eventRaw]\n",
        "\n",
        "\n",
        "Dataset[\"event_ind\"] = Dataset[\"event\"].apply(mapEvent)\n",
        "Dataset.head()"
      ]
    },
    {
      "cell_type": "code",
      "execution_count": 4,
      "metadata": {},
      "outputs": [
        {
          "data": {
            "text/plain": [
              "event\n",
              "71    38673\n",
              "62    36421\n",
              "42    23320\n",
              "55    17421\n",
              "63    13520\n",
              "60    13406\n",
              "11    13337\n",
              "73    12409\n",
              "43     9776\n",
              "70     7933\n",
              "64     6540\n",
              "53     5817\n",
              "13     4861\n",
              "66     4289\n",
              "26     4017\n",
              "12     3338\n",
              "41     2257\n",
              "99     2050\n",
              "24     1517\n",
              "31     1347\n",
              "78     1326\n",
              "27     1260\n",
              "72     1141\n",
              "51      741\n",
              "52      708\n",
              "44      556\n",
              "32      494\n",
              "23      423\n",
              "25      146\n",
              "69      144\n",
              "67       90\n",
              "61       78\n",
              "22       76\n",
              "40       76\n",
              "65       73\n",
              "21       55\n",
              "49       40\n",
              "50       39\n",
              "45       22\n",
              "20       19\n",
              "79       18\n",
              "54       15\n",
              "56        9\n",
              "59        7\n",
              "74        7\n",
              "10        4\n",
              "30        2\n",
              "29        2\n",
              "Name: count, dtype: int64"
            ]
          },
          "execution_count": 4,
          "metadata": {},
          "output_type": "execute_result"
        }
      ],
      "source": [
        "# Dataset.event.value_counts()"
      ]
    },
    {
      "cell_type": "code",
      "execution_count": 5,
      "metadata": {},
      "outputs": [
        {
          "data": {
            "image/png": "[encoded data removed]",
            "text/plain": [
              "<Figure size 640x480 with 1 Axes>"
            ]
          },
          "metadata": {},
          "output_type": "display_data"
        }
      ],
      "source": [
        "# import matplotlib.pyplot as plt\n",
        "\n",
        "# Dataset[\"event\"].hist()\n",
        "\n",
        "# # Adding titles and labels to the histogram\n",
        "# plt.title(\"Event Distribution in Real Data\")\n",
        "# plt.xlabel(\"Event\")\n",
        "# plt.ylabel(\"Frequency\")\n",
        "\n",
        "# plt.show()"
      ]
    },
    {
      "cell_type": "code",
      "execution_count": 6,
      "metadata": {},
      "outputs": [
        {
          "data": {
            "text/plain": [
              "16.827517187364023"
            ]
          },
          "execution_count": 6,
          "metadata": {},
          "output_type": "execute_result"
        }
      ],
      "source": [
        "# calculating the most common event in the dataset and how much it accounts for.\n",
        "\n",
        "(len(Dataset[Dataset.event == 71]) / len(Dataset.event)) * 100"
      ]
    },
    {
      "cell_type": "code",
      "execution_count": 7,
      "metadata": {},
      "outputs": [
        {
          "data": {
            "text/plain": [
              "15.847619876425028"
            ]
          },
          "execution_count": 7,
          "metadata": {},
          "output_type": "execute_result"
        }
      ],
      "source": [
        "# calculating the most common event in the dataset and how much it accounts for.\n",
        "\n",
        "(len(Dataset[Dataset.event == 62]) / len(Dataset.event)) * 100"
      ]
    },
    {
      "cell_type": "code",
      "execution_count": 8,
      "metadata": {},
      "outputs": [
        {
          "data": {
            "text/plain": [
              "0.0008702462796971543"
            ]
          },
          "execution_count": 8,
          "metadata": {},
          "output_type": "execute_result"
        }
      ],
      "source": [
        "# Calculating the least commont occurance in the dataset\n",
        "\n",
        "(len(Dataset[Dataset.event == 30]) / len(Dataset.event)) * 100"
      ]
    },
    {
      "cell_type": "code",
      "execution_count": 11,
      "metadata": {
        "colab": {
          "base_uri": "https://localhost:8080/"
        },
        "id": "JABUh1cj5Jup",
        "outputId": "b196ba1d-a5bb-4cdf-e4f8-143246ffc126"
      },
      "outputs": [
        {
          "name": "stdout",
          "output_type": "stream",
          "text": [
            "(183856, 6) (22982, 6) (22982, 6)\n"
          ]
        }
      ],
      "source": [
        "# split dataset into train, development, and test\n",
        "\n",
        "train_set = Dataset.sample(frac=0.8, random_state=3275)\n",
        "\n",
        "dev_set = Dataset.drop(train_set.index)\n",
        "test_set = dev_set.sample(frac=0.5, random_state=3276)\n",
        "dev_set = dev_set.drop(test_set.index)\n",
        "\n",
        "train_set = train_set.reset_index(drop=True)\n",
        "dev_set = dev_set.reset_index(drop=True)\n",
        "test_set = test_set.reset_index(drop=True)\n",
        "\n",
        "print(train_set.shape, dev_set.shape, test_set.shape)"
      ]
    },
    {
      "cell_type": "code",
      "execution_count": 16,
      "metadata": {},
      "outputs": [
        {
          "data": {
            "image/png": "[encoded data removed]",
            "text/plain": [
              "<Figure size 1200x600 with 1 Axes>"
            ]
          },
          "metadata": {},
          "output_type": "display_data"
        }
      ],
      "source": [
        "import matplotlib.pyplot as plt\n",
        "\n",
        "# Event labels and their corresponding counts\n",
        "event_labels = ['71',\n",
        "'62',\n",
        "'42',\n",
        "'55',\n",
        "'63',\n",
        "'60',\n",
        "'11',\n",
        "'73',\n",
        "'43',\n",
        "'70',\n",
        "'64',\n",
        "'53',\n",
        "'13',\n",
        "'66',\n",
        "'26',\n",
        "'12',\n",
        "'41',\n",
        "'99',\n",
        "'24',\n",
        "'31',\n",
        "'78',\n",
        "'27',\n",
        "'72',\n",
        "'51',\n",
        "'52',\n",
        "'44',\n",
        "'32',\n",
        "'23',\n",
        "'25',\n",
        "'69',\n",
        "'67',\n",
        "'61',\n",
        "'22',\n",
        "'40',\n",
        "'65',\n",
        "'21',\n",
        "'49',\n",
        "'50',\n",
        "'45',\n",
        "'20',\n",
        "'79',\n",
        "'54',\n",
        "'56',\n",
        "'59',\n",
        "'74',\n",
        "'10',\n",
        "'29',\n",
        "'30',]\n",
        "\n",
        "\n",
        "event_counts = [\n",
        "    30849,\n",
        "    29015,\n",
        "    18698,\n",
        "    13985,\n",
        "    10814,\n",
        "    10791,\n",
        "    10725,\n",
        "    9990,\n",
        "    7812,\n",
        "    6328,\n",
        "    5157,\n",
        "    4634,\n",
        "    3901,\n",
        "    3446,\n",
        "    3206,\n",
        "    2681,\n",
        "    1808,\n",
        "    1636,\n",
        "    1244,\n",
        "    1088,\n",
        "    1050,\n",
        "    1004,\n",
        "    911,\n",
        "    599,\n",
        "    579,\n",
        "    437,\n",
        "    385,\n",
        "    329,\n",
        "    121,\n",
        "    119,\n",
        "    67,\n",
        "    64,\n",
        "    64,\n",
        "    62,\n",
        "    62,\n",
        "    48,\n",
        "    31,\n",
        "    29,\n",
        "    19,\n",
        "    17,\n",
        "    13,\n",
        "    12,\n",
        "    7,\n",
        "    7,\n",
        "    5,\n",
        "    3,\n",
        "    2,\n",
        "    2,\n",
        "]\n",
        "\n"
      ]
    },
    {
      "cell_type": "code",
      "execution_count": null,
      "metadata": {},
      "outputs": [],
      "source": [
        "# Create a bar plot\n",
        "plt.figure(figsize=(12, 6))\n",
        "plt.bar(event_labels, event_counts, color=\"skyblue\")\n",
        "plt.xlabel(\"Event Labels\")\n",
        "plt.ylabel(\"Log Label Counts\")\n",
        "plt.title(\"Distribution of Events\")\n",
        "plt.show()"
      ]
    },
    {
      "cell_type": "code",
      "execution_count": 19,
      "metadata": {},
      "outputs": [
        {
          "data": {
            "text/plain": [
              "48"
            ]
          },
          "execution_count": 19,
          "metadata": {},
          "output_type": "execute_result"
        }
      ],
      "source": [
        "len(event_labels)"
      ]
    },
    {
      "cell_type": "markdown",
      "metadata": {
        "id": "LRebn4Ulr9fv"
      },
      "source": [
        "### Tokenisation\n",
        "The next step is to tokenize the documents, or individual injury report in this project. After tokenization, naratives become lists of words. We use the **BERT pretrained tokenizer**, provided by **Hugging face**. Below is an illustrating example."
      ]
    },
    {
      "cell_type": "code",
      "execution_count": 9,
      "metadata": {
        "id": "Ef7IKCk0wb3B"
      },
      "outputs": [],
      "source": [
        "# load pretrained tokenizer\n",
        "PRE_TRAINED_MODEL_NAME = \"bert-base-cased\"\n",
        "tokenizer = BertTokenizer.from_pretrained(PRE_TRAINED_MODEL_NAME)"
      ]
    },
    {
      "cell_type": "code",
      "execution_count": 10,
      "metadata": {
        "colab": {
          "base_uri": "https://localhost:8080/"
        },
        "id": "e-DPCXJ1WAt4",
        "outputId": "22a727ec-79f7-437b-e6b8-66c75b89b82b"
      },
      "outputs": [
        {
          "name": "stdout",
          "output_type": "stream",
          "text": [
            " Sentence: When was I last outside? I am stuck at home for 2 weeks.\n",
            "   Tokens: ['When', 'was', 'I', 'last', 'outside', '?', 'I', 'am', 'stuck', 'at', 'home', 'for', '2', 'weeks', '.']\n",
            "Token IDs: [1332, 1108, 146, 1314, 1796, 136, 146, 1821, 5342, 1120, 1313, 1111, 123, 2277, 119]\n"
          ]
        }
      ],
      "source": [
        "# an illustrating example of input/ output of tokenizer\n",
        "sample_txt = \"When was I last outside? I am stuck at home for 2 weeks.\"\n",
        "tokens_sample = tokenizer.tokenize(sample_txt)\n",
        "token_ids_sample = tokenizer.convert_tokens_to_ids(tokens_sample)\n",
        "\n",
        "print(f\" Sentence: {sample_txt}\")\n",
        "print(f\"   Tokens: {tokens_sample}\")\n",
        "print(f\"Token IDs: {token_ids_sample}\")"
      ]
    },
    {
      "cell_type": "markdown",
      "metadata": {
        "id": "pqqZEY2fdfPT"
      },
      "source": [
        "#### Create Training Corpus\n",
        "\n",
        "\n"
      ]
    },
    {
      "cell_type": "code",
      "execution_count": 11,
      "metadata": {
        "colab": {
          "base_uri": "https://localhost:8080/"
        },
        "id": "6o52RtV6bYLD",
        "outputId": "5413219a-b3bb-4254-af7e-dd9478c92bab"
      },
      "outputs": [
        {
          "name": "stdout",
          "output_type": "stream",
          "text": [
            "183856\n",
            "['47', 'yo', 'female', 'dropped', 'p', '##alle', '##t', 'on', 'foot', 'at', 'work', 'd', '##x', 'toe', 'injury', 'b']\n"
          ]
        }
      ],
      "source": [
        "# Create injury report corpus, i.e. list of lists of totokenized\n",
        "\n",
        "train_report_l = train_set[\"text\"].tolist()\n",
        "training_corpus = [tokenizer.tokenize(report.lower()) for report in train_report_l]\n",
        "print(len(training_corpus))\n",
        "print(training_corpus[0])"
      ]
    },
    {
      "cell_type": "code",
      "execution_count": 12,
      "metadata": {},
      "outputs": [
        {
          "name": "stdout",
          "output_type": "stream",
          "text": [
            "183856\n",
            "['47', 'yo', 'female', 'dropped', 'p', '##alle', '##t', 'on', 'foot', 'at', 'work', 'd', '##x', 'toe', 'injury', 'b']\n"
          ]
        }
      ],
      "source": [
        "# Create injury report corpus, i.e. list of lists of tokenized small case tokens.\n",
        "\n",
        "train_report_l = train_set[\"text\"].tolist()\n",
        "training_corpus = [tokenizer.tokenize(report.lower()) for report in train_report_l]\n",
        "print(len(training_corpus))\n",
        "print(training_corpus[0])"
      ]
    },
    {
      "cell_type": "code",
      "execution_count": 13,
      "metadata": {
        "id": "aTwMOtiPbqil"
      },
      "outputs": [],
      "source": [
        "# create training vocab dictionary\n",
        "\n",
        "tok_ind = 0  # numbering for dictionary\n",
        "tok_id_d = dict()  # map token to token_ind\n",
        "id_tok_d = dict()  # map token_ind to token\n",
        "\n",
        "# looping over the training corpus\n",
        "for si in range(len(training_corpus)):\n",
        "    # loop over tokens in the sentence\n",
        "    for tok in training_corpus[si]:\n",
        "        # update vocab dict\n",
        "        if tok not in tok_id_d:\n",
        "            tok_id_d[tok] = tok_ind\n",
        "            id_tok_d[tok_ind] = tok\n",
        "            # update token index\n",
        "            tok_ind += 1\n",
        "tok_id_d[\"UNK\"] = tok_ind\n",
        "id_tok_d[tok_ind] = \"UNK\""
      ]
    },
    {
      "cell_type": "code",
      "execution_count": 14,
      "metadata": {
        "colab": {
          "base_uri": "https://localhost:8080/"
        },
        "id": "H1a6eIrVcVcK",
        "outputId": "1ca399bd-0a59-4ed8-cc4d-6c4ca3a3e3c9"
      },
      "outputs": [
        {
          "name": "stdout",
          "output_type": "stream",
          "text": [
            "length of the vocabulary:\n",
            "10419\n",
            "10418\n",
            "UNK\n"
          ]
        }
      ],
      "source": [
        "# get vocab length\n",
        "\n",
        "all_toks = id_tok_d.keys()\n",
        "print(\"length of the vocabulary:\")\n",
        "print(len(all_toks))\n",
        "print(tok_id_d[\"UNK\"])\n",
        "print(id_tok_d[10418])"
      ]
    },
    {
      "cell_type": "markdown",
      "metadata": {
        "id": "66DBb4QLdCQ2"
      },
      "source": [
        "#### Prepare dataset"
      ]
    },
    {
      "cell_type": "code",
      "execution_count": 15,
      "metadata": {
        "id": "Z22bMM9yc85g"
      },
      "outputs": [],
      "source": [
        "def MapTokInd(tok, tokMap):\n",
        "    if tok in tokMap:\n",
        "        return tokMap[tok]\n",
        "    else:\n",
        "        return tokMap[\"UNK\"]"
      ]
    },
    {
      "cell_type": "code",
      "execution_count": 16,
      "metadata": {
        "id": "eYaEVlQHdjkF"
      },
      "outputs": [],
      "source": [
        "# create x_train, y_train\n",
        "train_corpus_frag = training_corpus[:100000]\n",
        "x_train = np.empty((len(train_corpus_frag), len(all_toks)))\n",
        "y_train = train_set[\"event\"].to_numpy()[:100000]\n",
        "\n",
        "# looping over the training corpus\n",
        "for si in range(len(train_corpus_frag)):\n",
        "    word_count_sent = np.zeros(len(all_toks))\n",
        "    # loop over tokens in the sentence\n",
        "    for tok in training_corpus[si]:\n",
        "        tokInd = MapTokInd(tok, tok_id_d)\n",
        "        word_count_sent[tokInd] += 1\n",
        "    x_train[si] = word_count_sent"
      ]
    },
    {
      "cell_type": "markdown",
      "metadata": {},
      "source": [
        "#### Fitting the dataset"
      ]
    },
    {
      "cell_type": "code",
      "execution_count": 17,
      "metadata": {
        "colab": {
          "base_uri": "https://localhost:8080/",
          "height": 74
        },
        "id": "BrJXiFdagRno",
        "outputId": "d65c9a9d-1d3d-42f8-f310-85cfaa2391d1"
      },
      "outputs": [
        {
          "name": "stdout",
          "output_type": "stream",
          "text": [
            "Time spent training the corpus: 9.357403039932251 seconds\n"
          ]
        }
      ],
      "source": [
        "NBModel = MultinomialNB()\n",
        "\n",
        "start_time = time.time()\n",
        "\n",
        "NBModel.fit(x_train, y_train)\n",
        "\n",
        "# Record the end time\n",
        "end_time = time.time()\n",
        "\n",
        "# Calculate and print the time spent\n",
        "elapsed_time = end_time - start_time\n",
        "print(f\"Time spent training the corpus: {elapsed_time} seconds\")"
      ]
    },
    {
      "cell_type": "code",
      "execution_count": 18,
      "metadata": {},
      "outputs": [
        {
          "name": "stdout",
          "output_type": "stream",
          "text": [
            "Training Accuracy: 75.26\n"
          ]
        }
      ],
      "source": [
        "# Predict labels for the training data\n",
        "y_train_pred = NBModel.predict(x_train)\n",
        "\n",
        "# Calculate accuracy on the training data\n",
        "train_accuracy = np.sum(y_train == y_train_pred) / x_train.shape[0] * 100\n",
        "\n",
        "print(\"Training Accuracy:\", round(train_accuracy, 2))"
      ]
    },
    {
      "cell_type": "markdown",
      "metadata": {},
      "source": [
        "#### Checking the Test Corpus and accuracy"
      ]
    },
    {
      "cell_type": "code",
      "execution_count": 19,
      "metadata": {
        "colab": {
          "base_uri": "https://localhost:8080/"
        },
        "id": "GToS23DokGUz",
        "outputId": "19b51068-ab6c-46e3-c336-665b1f4088f4"
      },
      "outputs": [
        {
          "name": "stdout",
          "output_type": "stream",
          "text": [
            "22982\n",
            "['56', '##yo', '##f', 'with', 'hem', '##ato', '##ma', 'to', 'left', 'side', 'of', 'head', 'after', 'being', 'knocked', 'over', 'by', 'a', 'student', 'fell', 'and', 'hit', 'the', 'ground', 'at', 'school']\n"
          ]
        }
      ],
      "source": [
        "# Create test corpus\n",
        "test_report_l = test_set[\"text\"].tolist()\n",
        "test_corpus = [tokenizer.tokenize(report.lower()) for report in test_report_l]\n",
        "print(len(test_corpus))\n",
        "print(test_corpus[0])"
      ]
    },
    {
      "cell_type": "code",
      "execution_count": 20,
      "metadata": {
        "id": "jS3AcagKj6b2"
      },
      "outputs": [],
      "source": [
        "# creating the matrices for the test corpus and populating it with the words to form a matrix\n",
        "\n",
        "x_test = np.empty((len(test_corpus), len(all_toks)))\n",
        "y_test = test_set[\"event\"].to_numpy()\n",
        "\n",
        "# looping over the test corpus\n",
        "for si in range(len(test_corpus)):\n",
        "    word_count_sent = np.zeros(len(all_toks))\n",
        "    # loop over tokens in the sentence\n",
        "    for tok in test_corpus[si]:\n",
        "        tokInd = MapTokInd(tok, tok_id_d)\n",
        "        word_count_sent[tokInd] += 1\n",
        "    x_test[si] = word_count_sent"
      ]
    },
    {
      "cell_type": "code",
      "execution_count": 21,
      "metadata": {
        "id": "gXmas8ToknpL"
      },
      "outputs": [],
      "source": [
        "# the PREDICTION is done using the TEST data\n",
        "y_pred = NBModel.predict(x_test)"
      ]
    },
    {
      "cell_type": "code",
      "execution_count": 22,
      "metadata": {
        "colab": {
          "base_uri": "https://localhost:8080/"
        },
        "id": "tllLIV8ok925",
        "outputId": "d8fd0b37-01a3-4d64-d24a-391241c478ba"
      },
      "outputs": [
        {
          "data": {
            "text/plain": [
              "72.82655991645636"
            ]
          },
          "execution_count": 22,
          "metadata": {},
          "output_type": "execute_result"
        }
      ],
      "source": [
        "accuracy = np.sum(y_test == y_pred) / x_test.shape[0] * 100\n",
        "accuracy"
      ]
    },
    {
      "cell_type": "code",
      "execution_count": 23,
      "metadata": {},
      "outputs": [
        {
          "data": {
            "text/plain": [
              "72.83"
            ]
          },
          "execution_count": 23,
          "metadata": {},
          "output_type": "execute_result"
        }
      ],
      "source": [
        "round(accuracy, 2)"
      ]
    },
    {
      "cell_type": "markdown",
      "metadata": {},
      "source": [
        "#### Dev Set predictions and Accuracy"
      ]
    },
    {
      "cell_type": "code",
      "execution_count": 24,
      "metadata": {},
      "outputs": [
        {
          "name": "stdout",
          "output_type": "stream",
          "text": [
            "22982\n",
            "['34', '##yo', '##m', 'lifting', 'boxes', 'at', 'work', 'over', 'use', 'of', 'hand', 'd', '##x', 'car', '##pal', 'tunnel', 'syndrome']\n"
          ]
        }
      ],
      "source": [
        "dev_report_l = dev_set[\"text\"].tolist()\n",
        "dev_corpus = [tokenizer.tokenize(report.lower()) for report in dev_report_l]\n",
        "print(len(dev_corpus))\n",
        "print(dev_corpus[0])"
      ]
    },
    {
      "cell_type": "code",
      "execution_count": 25,
      "metadata": {},
      "outputs": [],
      "source": [
        "x_test_dev = np.empty((len(dev_corpus), len(all_toks)))\n",
        "y_test_dev = dev_set[\"event\"].to_numpy()\n",
        "\n",
        "# looping over the training corpus\n",
        "for si in range(len(dev_corpus)):\n",
        "    word_count_sent_dev = np.zeros(len(all_toks))\n",
        "    # loop over tokens in the sentence\n",
        "    for tok in dev_corpus[si]:\n",
        "        tokInd = MapTokInd(tok, tok_id_d)\n",
        "        word_count_sent_dev[tokInd] += 1\n",
        "    x_test_dev[si] = word_count_sent_dev"
      ]
    },
    {
      "cell_type": "code",
      "execution_count": 26,
      "metadata": {},
      "outputs": [],
      "source": [
        "# the PREDICTION is done using the TEST data\n",
        "\n",
        "y_pred_dev = NBModel.predict(x_test_dev)"
      ]
    },
    {
      "cell_type": "code",
      "execution_count": 27,
      "metadata": {},
      "outputs": [
        {
          "data": {
            "text/plain": [
              "72.62205204072752"
            ]
          },
          "execution_count": 27,
          "metadata": {},
          "output_type": "execute_result"
        }
      ],
      "source": [
        "accuracy = np.sum(y_test_dev == y_pred_dev) / x_test_dev.shape[0] * 100\n",
        "accuracy"
      ]
    }
  ],
  "metadata": {
    "colab": {
      "provenance": []
    },
    "kernelspec": {
      "display_name": "Python 3",
      "name": "python3"
    },
    "language_info": {
      "codemirror_mode": {
        "name": "ipython",
        "version": 3
      },
      "file_extension": ".py",
      "mimetype": "text/x-python",
      "name": "python",
      "nbconvert_exporter": "python",
      "pygments_lexer": "ipython3",
      "version": "3.10.12"
    }
  },
  "nbformat": 4,
  "nbformat_minor": 0
}
