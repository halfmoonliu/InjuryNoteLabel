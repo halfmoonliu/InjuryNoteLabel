{
  "cells": [
    {
      "cell_type": "markdown",
      "metadata": {
        "id": "4VpUlE2NqxKb"
      },
      "source": [
        "## Label Injnury Narratives Using Generative and Deep Learning Models\n",
        "This project aims to compare the performances of **generative** and **deep learning models** on **document classification** using real-world and synthesized data. **The document classification task is to label a piece of injury narrative with the type of injury** to each narrative."
      ]
    },
    {
      "cell_type": "markdown",
      "metadata": {
        "id": "cwE1irDVq4eN"
      },
      "source": [
        "### Dataset\n",
        "The dataset used is from a competition organized by NASA-Tournament Lab and National Institute for Occupational Safety & Health (NIOSH). The goal is to automate the processing of data in occupational safety and health (OSH) surveillance systems. Specifically, given a free text injury report, such as \"*worker fell from the ladder after reaching out for a box.*” , the task is to **assign a injury code** from the Occupational Injuries and Illnesses Classification System (OIICS). The details of the task and competition can be found in a [blogpost](https://blogs.cdc.gov/niosh-science-blog/2020/02/26/ai-crowdsourcing/) by CDC (Center for Disease Control). The dataset is downloaded from [hugging face](https://huggingface.co/datasets/mayerantoine/injury-narrative-coding). The winning solutions can be found on [NASA Tournament Lab's Github Page](https://github.com/NASA-Tournament-Lab/CDC-NLP-Occ-Injury-Coding)."
      ]
    },
    {
      "cell_type": "code",
      "execution_count": 1,
      "metadata": {
        "id": "wZsNmYxTVbgQ"
      },
      "outputs": [],
      "source": [
        "# import libraries\n",
        "#!pip install -r requirements.txt\n",
        "from collections import defaultdict\n",
        "import matplotlib.pyplot as plt\n",
        "import numpy as np\n",
        "import pandas as pd\n",
        "import seaborn as sns\n",
        "import time\n",
        "import torch\n",
        "import torch.nn as nn\n",
        "import torch.nn.functional as F\n",
        "from torch.utils.data import DataLoader, TensorDataset\n",
        "import torch.utils.data\n",
        "from tqdm import tqdm\n",
        "from transformers import BertTokenizer, BertForSequenceClassification, AdamW, BertModel, get_linear_schedule_with_warmup"
      ]
    },
    {
      "cell_type": "markdown",
      "metadata": {
        "id": "bkOi_UCftAsM"
      },
      "source": [
        "#### Load the dataset\n",
        "The dataset used is stored on github in *csv* format. We first read the dataset as a *pandas dataframe*, and split them into **train, development, and test sets**."
      ]
    },
    {
      "cell_type": "code",
      "execution_count": 2,
      "metadata": {
        "colab": {
          "base_uri": "https://localhost:8080/"
        },
        "id": "JABUh1cj5Jup",
        "outputId": "7771f653-c297-476f-ffea-37afba1b997a"
      },
      "outputs": [
        {
          "output_type": "stream",
          "name": "stdout",
          "text": [
            "(183856, 4) (22982, 4) (22982, 4)\n"
          ]
        }
      ],
      "source": [
        "# split dataset into train, development, and test\n",
        "train_gen_url = \"https://raw.githubusercontent.com/halfmoonliu/InjuryNoteLabel/main/Data/TrainSetGen.csv\"\n",
        "dev_gen_url = \"https://raw.githubusercontent.com/halfmoonliu/InjuryNoteLabel/main/Data/DevSetGen.csv\"\n",
        "test_gen_url = \"https://raw.githubusercontent.com/halfmoonliu/InjuryNoteLabel/main/Data/TestSetGen.csv\"\n",
        "\n",
        "train_set = pd.read_csv(train_gen_url)\n",
        "dev_set =  pd.read_csv(dev_gen_url)\n",
        "test_set  = pd.read_csv(test_gen_url)\n",
        "\n",
        "print(train_set.shape, dev_set.shape, test_set.shape)"
      ]
    },
    {
      "cell_type": "markdown",
      "metadata": {
        "id": "LRebn4Ulr9fv"
      },
      "source": [
        "### Tokenisation\n",
        "The next step is to tokenize the documents, or individual injury report in this project. After tokenization, naratives become lists of words. We use the **BERT pretrained tokenizer**, provided by **Hugging face**. Below is an illustrating example."
      ]
    },
    {
      "cell_type": "code",
      "execution_count": 3,
      "metadata": {
        "id": "Ef7IKCk0wb3B"
      },
      "outputs": [],
      "source": [
        "#load pretrained tokenizer\n",
        "PRE_TRAINED_MODEL_NAME = 'bert-base-cased'\n",
        "tokenizer = BertTokenizer.from_pretrained(PRE_TRAINED_MODEL_NAME)"
      ]
    },
    {
      "cell_type": "code",
      "execution_count": 4,
      "metadata": {
        "colab": {
          "base_uri": "https://localhost:8080/"
        },
        "id": "e-DPCXJ1WAt4",
        "outputId": "60840a10-ee68-488a-b3ef-b05520975cb4"
      },
      "outputs": [
        {
          "output_type": "stream",
          "name": "stdout",
          "text": [
            " Sentence: When was I last outside? I am stuck at home for 2 weeks.\n",
            "   Tokens: ['When', 'was', 'I', 'last', 'outside', '?', 'I', 'am', 'stuck', 'at', 'home', 'for', '2', 'weeks', '.']\n",
            "Token IDs: [1332, 1108, 146, 1314, 1796, 136, 146, 1821, 5342, 1120, 1313, 1111, 123, 2277, 119]\n"
          ]
        }
      ],
      "source": [
        "# an illustrating example of input/ output of tokenizer\n",
        "sample_txt = 'When was I last outside? I am stuck at home for 2 weeks.'\n",
        "tokens_sample = tokenizer.tokenize(sample_txt)\n",
        "token_ids_sample = tokenizer.convert_tokens_to_ids(tokens_sample)\n",
        "\n",
        "print(f' Sentence: {sample_txt}')\n",
        "print(f'   Tokens: {tokens_sample}')\n",
        "print(f'Token IDs: {token_ids_sample}')"
      ]
    },
    {
      "cell_type": "markdown",
      "metadata": {
        "id": "pqqZEY2fdfPT"
      },
      "source": [
        "#### Tokenization with Attention Mask\n",
        "With the _encode_plus_ method, we can obtain the tokens (mapped to indices) and attention masks of the input document.\n"
      ]
    },
    {
      "cell_type": "code",
      "execution_count": 5,
      "metadata": {
        "colab": {
          "base_uri": "https://localhost:8080/"
        },
        "id": "fCLViO7pX9GB",
        "outputId": "9012f0a5-114d-465d-aca6-e12cd4d0da4c"
      },
      "outputs": [
        {
          "output_type": "stream",
          "name": "stderr",
          "text": [
            "/usr/local/lib/python3.10/dist-packages/transformers/tokenization_utils_base.py:2614: FutureWarning: The `pad_to_max_length` argument is deprecated and will be removed in a future version, use `padding=True` or `padding='longest'` to pad to the longest sequence in the batch, or use `padding='max_length'` to pad to a max length. In this case, you can give a specific length with `max_length` (e.g. `max_length=45`) or leave max_length to None to pad to the maximal input size of the model (e.g. 512 for Bert).\n",
            "  warnings.warn(\n"
          ]
        },
        {
          "output_type": "execute_result",
          "data": {
            "text/plain": [
              "{'input_ids': tensor([[ 101, 1332, 1108,  146, 1314, 1796,  136,  146, 1821, 5342, 1120, 1313,\n",
              "         1111,  123, 2277,  119,  102,    0,    0,    0,    0,    0,    0,    0,\n",
              "            0,    0,    0,    0,    0,    0,    0,    0]]), 'attention_mask': tensor([[1, 1, 1, 1, 1, 1, 1, 1, 1, 1, 1, 1, 1, 1, 1, 1, 1, 0, 0, 0, 0, 0, 0, 0,\n",
              "         0, 0, 0, 0, 0, 0, 0, 0]])}"
            ]
          },
          "metadata": {},
          "execution_count": 5
        }
      ],
      "source": [
        "# encoding of the illustrating example\n",
        "encoding_sample_text = tokenizer.encode_plus(\n",
        "  sample_txt,\n",
        "  max_length=32,\n",
        "  add_special_tokens=True, # Add '[CLS]' and '[SEP]'\n",
        "  truncation=True,\n",
        "  return_token_type_ids=False,\n",
        "  pad_to_max_length=True,\n",
        "  return_attention_mask=True,\n",
        "  return_tensors='pt',  # Return PyTorch tensors\n",
        ")\n",
        "\n",
        "encoding_sample_text"
      ]
    },
    {
      "cell_type": "code",
      "source": [
        "# convert ids to tokens\n",
        "print(tokenizer.decode(101))\n",
        "print(tokenizer.decode(102))\n",
        "print(tokenizer.decode(1332))"
      ],
      "metadata": {
        "colab": {
          "base_uri": "https://localhost:8080/"
        },
        "id": "TusT7h-ookLV",
        "outputId": "665ec356-cd78-4773-8f49-1d456c50fb6a"
      },
      "execution_count": 6,
      "outputs": [
        {
          "output_type": "stream",
          "name": "stdout",
          "text": [
            "[ C L S ]\n",
            "[ S E P ]\n",
            "W h e n\n"
          ]
        }
      ]
    },
    {
      "cell_type": "markdown",
      "metadata": {
        "id": "2SHONXILgEBN"
      },
      "source": [
        "#### Determining max sequence length\n",
        "Here, we use the bert tokenizer to tokezine all documents (i.e. injury narratives) in the dataset to determine the longest document length for model training."
      ]
    },
    {
      "cell_type": "code",
      "execution_count": 7,
      "metadata": {
        "colab": {
          "base_uri": "https://localhost:8080/"
        },
        "id": "5l0qVMvxYFyW",
        "outputId": "02c09239-6c5e-48f4-8daa-d3a8b0a6c6cf"
      },
      "outputs": [
        {
          "output_type": "stream",
          "name": "stderr",
          "text": [
            "Truncation was not explicitly activated but `max_length` is provided a specific value, please use `truncation=True` to explicitly truncate examples to max length. Defaulting to 'longest_first' truncation strategy. If you encode pairs of sequences (GLUE-style) with the tokenizer you can select this strategy more precisely by providing a specific strategy to `truncation`.\n"
          ]
        }
      ],
      "source": [
        "token_lens = []\n",
        "\n",
        "for txt in test_set.text:\n",
        "  tokens = tokenizer.encode(txt, max_length=512)\n",
        "  token_lens.append(len(tokens))"
      ]
    },
    {
      "cell_type": "code",
      "execution_count": 8,
      "metadata": {
        "colab": {
          "base_uri": "https://localhost:8080/",
          "height": 636
        },
        "id": "mvMz_fLwYUw7",
        "outputId": "f548d895-1380-433a-8abe-9b600fdb51ea"
      },
      "outputs": [
        {
          "output_type": "stream",
          "name": "stderr",
          "text": [
            "<ipython-input-8-e4e1bc198432>:2: UserWarning: \n",
            "\n",
            "`distplot` is a deprecated function and will be removed in seaborn v0.14.0.\n",
            "\n",
            "Please adapt your code to use either `displot` (a figure-level function with\n",
            "similar flexibility) or `histplot` (an axes-level function for histograms).\n",
            "\n",
            "For a guide to updating your code to use the new functions, please see\n",
            "https://gist.github.com/mwaskom/de44147ed2974457ad6372750bbe5751\n",
            "\n",
            "  sns.distplot(token_lens)\n"
          ]
        },
        {
          "output_type": "display_data",
          "data": {
            "text/plain": [
              "<Figure size 640x480 with 1 Axes>"
            ],
            "image/png": "[encoded data removed]"
          },
          "metadata": {}
        }
      ],
      "source": [
        "# draw a plot of the distribution of sequence length.\n",
        "sns.distplot(token_lens)\n",
        "plt.xlim([0, 256]);\n",
        "plt.xlabel('Token count');"
      ]
    },
    {
      "cell_type": "markdown",
      "metadata": {
        "id": "UZPZVRWMmV_X"
      },
      "source": [
        "### Define a Dataset class for model training\n",
        "With the information derived from exploring the dataset, we can start to define the document classification model. We start with **generating the input** for the document classification model. The _InjuryDataset_ class defined below specifies input (document, label, tokenizer and max_length) and output (_text_, _input_ids_, _attention_mask_, & _event_ in a dictionary) for the data loader."
      ]
    },
    {
      "cell_type": "code",
      "execution_count": 9,
      "metadata": {
        "id": "2M2t-4YwmXDs"
      },
      "outputs": [],
      "source": [
        "# hyper parameters\n",
        "MAX_LEN = 150\n",
        "BATCH_SIZE = 16"
      ]
    },
    {
      "cell_type": "code",
      "execution_count": 10,
      "metadata": {
        "id": "t-89bY4-Jn27"
      },
      "outputs": [],
      "source": [
        "class InjuryDataset(torch.utils.data.Dataset):\n",
        "    def __init__(self, text, event_ind, tokenizer, max_len):\n",
        "        self.text = text\n",
        "        self.event_ind = event_ind\n",
        "        self.tokenizer = tokenizer\n",
        "        self.max_len = max_len\n",
        "\n",
        "    def __len__(self):\n",
        "        return len(self.text)\n",
        "\n",
        "    def __getitem__(self, item):\n",
        "        text = str(self.text[item])\n",
        "        event_ind = self.event_ind[item]\n",
        "\n",
        "        encoding = self.tokenizer.encode_plus(\n",
        "          text,\n",
        "          add_special_tokens=True,\n",
        "          max_length=self.max_len,\n",
        "          return_token_type_ids=False,\n",
        "          padding='max_length',\n",
        "          return_attention_mask=True,\n",
        "          return_tensors='pt',\n",
        "         )\n",
        "\n",
        "        return {\n",
        "          'text': text,\n",
        "          'input_ids': encoding['input_ids'].flatten(),\n",
        "          'attention_mask': encoding['attention_mask'].flatten(),\n",
        "          'event_ind': torch.tensor(event_ind, dtype=torch.long)\n",
        "        }\n"
      ]
    },
    {
      "cell_type": "code",
      "execution_count": 11,
      "metadata": {
        "id": "agflglsoK2TH"
      },
      "outputs": [],
      "source": [
        "# use the InjuryDataset class to create a dataloader\n",
        "def create_data_loader(df, tokenizer, max_len, batch_size):\n",
        "  ds = InjuryDataset(\n",
        "    text=df.text.to_numpy(),\n",
        "    event_ind=df.event_ind.to_numpy(),\n",
        "    tokenizer=tokenizer,\n",
        "    max_len=max_len\n",
        "  )\n",
        "\n",
        "  return DataLoader(\n",
        "    ds,\n",
        "    batch_size=batch_size,\n",
        "    num_workers=2\n",
        "  )\n"
      ]
    },
    {
      "cell_type": "markdown",
      "source": [
        "The dataloaders defined below ouput put a batch of dataset (_text_, _input_ids_, _attention_mask_, _event_ind_) at a time. The batch size was defined previously."
      ],
      "metadata": {
        "id": "4RRPPOVpVFdx"
      }
    },
    {
      "cell_type": "code",
      "execution_count": 12,
      "metadata": {
        "id": "uzAPkTifLAqh"
      },
      "outputs": [],
      "source": [
        "# create data loader for train, dev and test dataset.\n",
        "train_data_loader = create_data_loader(train_set, tokenizer, MAX_LEN, BATCH_SIZE)\n",
        "dev_data_loader = create_data_loader(dev_set, tokenizer, MAX_LEN, BATCH_SIZE)\n",
        "test_data_loader = create_data_loader(test_set, tokenizer, MAX_LEN, BATCH_SIZE)"
      ]
    },
    {
      "cell_type": "code",
      "execution_count": 13,
      "metadata": {
        "colab": {
          "base_uri": "https://localhost:8080/"
        },
        "id": "YDvHn_b_LmRx",
        "outputId": "b2073014-d1e8-417a-e8e3-bde97f9abbcf"
      },
      "outputs": [
        {
          "output_type": "stream",
          "name": "stdout",
          "text": [
            "Batch size: 16\n",
            "Content of the first element in the batch:\n",
            "text: 37 works d shoulder ##f as s at p ##pet 2 1 upper with car 39 back shoulder tight his fire ##uro r day yo worse pain yo ##f hands noticed hard o living strain ##m 31 41 leg motion hands pain does 28 m but construction work bent 43 while at back factory ##tre ##m at 49 cook works\n",
            "input_ids: tensor([  101,  3413,  1759,   173,  2342,   108,   108,   175,  1112,   188,\n",
            "         1120,   185,   108,   108, 11109,   123,   122,  3105,  1114,  1610,\n",
            "         3614,  1171,  2342,  3600,  1117,  1783,   108,   108,   190,  2180,\n",
            "          187,  1285, 26063,  4146,  2489, 26063,   108,   108,   175,  1493,\n",
            "         3535,  1662,   184,  1690, 10512,   108,   108,   182,  1955,  3746,\n",
            "         3420,  4018,  1493,  2489,  1674,  1743,   182,  1133,  2058,  1250,\n",
            "         5950,  3887,  1229,  1120,  1171,  4790,   108,   108,   189,  1874,\n",
            "          108,   108,   182,  1120,  3927,  9834,  1759,   102,     0,     0,\n",
            "            0,     0,     0,     0,     0,     0,     0,     0,     0,     0,\n",
            "            0,     0,     0,     0,     0,     0,     0,     0,     0,     0,\n",
            "            0,     0,     0,     0,     0,     0,     0,     0,     0,     0,\n",
            "            0,     0,     0,     0,     0,     0,     0,     0,     0,     0,\n",
            "            0,     0,     0,     0,     0,     0,     0,     0,     0,     0,\n",
            "            0,     0,     0,     0,     0,     0,     0,     0,     0,     0,\n",
            "            0,     0,     0,     0,     0,     0,     0,     0,     0,     0])\n",
            "attention_mask: tensor([1, 1, 1, 1, 1, 1, 1, 1, 1, 1, 1, 1, 1, 1, 1, 1, 1, 1, 1, 1, 1, 1, 1, 1,\n",
            "        1, 1, 1, 1, 1, 1, 1, 1, 1, 1, 1, 1, 1, 1, 1, 1, 1, 1, 1, 1, 1, 1, 1, 1,\n",
            "        1, 1, 1, 1, 1, 1, 1, 1, 1, 1, 1, 1, 1, 1, 1, 1, 1, 1, 1, 1, 1, 1, 1, 1,\n",
            "        1, 1, 1, 1, 1, 1, 0, 0, 0, 0, 0, 0, 0, 0, 0, 0, 0, 0, 0, 0, 0, 0, 0, 0,\n",
            "        0, 0, 0, 0, 0, 0, 0, 0, 0, 0, 0, 0, 0, 0, 0, 0, 0, 0, 0, 0, 0, 0, 0, 0,\n",
            "        0, 0, 0, 0, 0, 0, 0, 0, 0, 0, 0, 0, 0, 0, 0, 0, 0, 0, 0, 0, 0, 0, 0, 0,\n",
            "        0, 0, 0, 0, 0, 0])\n",
            "event_ind: 40\n"
          ]
        }
      ],
      "source": [
        "# Get a batch\n",
        "batch_example = next(iter(train_data_loader))\n",
        "\n",
        "print(\"Batch size: {}\".format(len(batch_example['text'])))\n",
        "print(\"Content of the first element in the batch:\")\n",
        "print(\"text: {}\".format(batch_example['text'][0]))\n",
        "print(\"input_ids: {}\".format(batch_example['input_ids'][0]))\n",
        "print(\"attention_mask: {}\".format(batch_example['attention_mask'][0]))\n",
        "print(\"event_ind: {}\".format(batch_example['event_ind'][0]))\n"
      ]
    },
    {
      "cell_type": "code",
      "execution_count": 14,
      "metadata": {
        "colab": {
          "base_uri": "https://localhost:8080/"
        },
        "id": "TR1eZ4Q3MoiM",
        "outputId": "33970e99-6117-48c5-8eb0-091f9f21afc5"
      },
      "outputs": [
        {
          "output_type": "stream",
          "name": "stdout",
          "text": [
            "torch.Size([16, 150])\n",
            "torch.Size([16, 150])\n",
            "torch.Size([16])\n"
          ]
        }
      ],
      "source": [
        "# shape of the batch content\n",
        "print(batch_example['input_ids'].shape)\n",
        "print(batch_example['attention_mask'].shape)\n",
        "print(batch_example['event_ind'].shape)"
      ]
    },
    {
      "cell_type": "markdown",
      "source": [
        "#### Applying the bert model on a single batch of data\n"
      ],
      "metadata": {
        "id": "C6ETqDHnYDHU"
      }
    },
    {
      "cell_type": "code",
      "execution_count": 15,
      "metadata": {
        "id": "C0YLr5rsNOea"
      },
      "outputs": [],
      "source": [
        "# create a model object\n",
        "bert_model = BertModel.from_pretrained(PRE_TRAINED_MODEL_NAME)"
      ]
    },
    {
      "cell_type": "markdown",
      "source": [
        "By applying the pretrained model to a single batch, we can examine the output of the model. Note that the **_number of hidden states_** of the pretrained model was **predefined by Hugging face**, the source where we downloaded the model parameters."
      ],
      "metadata": {
        "id": "ytA0rF1PbYyF"
      }
    },
    {
      "cell_type": "code",
      "execution_count": 16,
      "metadata": {
        "colab": {
          "base_uri": "https://localhost:8080/"
        },
        "id": "54L7lAOTTBhY",
        "outputId": "b4f9d569-361d-490e-b831-2b5ed4ae2c0c"
      },
      "outputs": [
        {
          "output_type": "stream",
          "name": "stdout",
          "text": [
            "Output of the model applied to a single batch:\n",
            "Shape of last hidden state:\n",
            "torch.Size([16, 150, 768])\n",
            "Shape of hidden states:\n",
            "768\n",
            "Shape of pooler output:\n",
            "torch.Size([16, 768])\n"
          ]
        }
      ],
      "source": [
        "Model_output_batch_example = bert_model(\n",
        "  input_ids=batch_example['input_ids'],\n",
        "  attention_mask=batch_example['attention_mask']\n",
        ")\n",
        "\n",
        "\n",
        "last_hidden_state_batch_example = Model_output_batch_example['last_hidden_state']\n",
        "pooled_output_batch_example =  Model_output_batch_example['pooler_output']\n",
        "\n",
        "print(\"Output of the model applied to a single batch:\")\n",
        "print(\"Shape of last hidden state:\")\n",
        "print(last_hidden_state_batch_example.shape)\n",
        "print(\"Shape of hidden states:\")\n",
        "print(bert_model.config.hidden_size)\n",
        "print(\"Shape of pooler output:\")\n",
        "print(pooled_output_batch_example.shape)"
      ]
    },
    {
      "cell_type": "code",
      "source": [
        "Model_output_batch_example.keys()"
      ],
      "metadata": {
        "colab": {
          "base_uri": "https://localhost:8080/"
        },
        "id": "h_jygke-todU",
        "outputId": "2ee1f53a-dec9-499a-e182-1a4baf160811"
      },
      "execution_count": 17,
      "outputs": [
        {
          "output_type": "execute_result",
          "data": {
            "text/plain": [
              "odict_keys(['last_hidden_state', 'pooler_output'])"
            ]
          },
          "metadata": {},
          "execution_count": 17
        }
      ]
    },
    {
      "cell_type": "markdown",
      "source": [
        "### Define model object for document classification\n",
        "After examining the output of the bert model when applying to a batch, we are ready to sketch out the model object for document classification. Specifically, we first **apply the pretrained model** on every batch of input, **apply dropout** for the output, and **pass the output to a fully connected layer**."
      ],
      "metadata": {
        "id": "t9WsBpw6cYAY"
      }
    },
    {
      "cell_type": "code",
      "execution_count": 18,
      "metadata": {
        "id": "JXWDOOhOOoY4"
      },
      "outputs": [],
      "source": [
        "class EventClassifier(nn.Module):\n",
        "\n",
        "  def __init__(self, n_classes):\n",
        "    super(EventClassifier, self).__init__()\n",
        "    self.bert = BertModel.from_pretrained(PRE_TRAINED_MODEL_NAME)\n",
        "    self.drop = nn.Dropout(p=0.3)\n",
        "    self.out = nn.Linear(self.bert.config.hidden_size, n_classes)\n",
        "\n",
        "  def forward(self, input_ids, attention_mask):\n",
        "    model_output = self.bert(\n",
        "      input_ids=input_ids,\n",
        "      attention_mask=attention_mask\n",
        "    )\n",
        "\n",
        "    _ = model_output['last_hidden_state']\n",
        "    pooled_output =  model_output['pooler_output']\n",
        "\n",
        "    output = self.drop(pooled_output)\n",
        "    return self.out(output)"
      ]
    },
    {
      "cell_type": "code",
      "execution_count": 19,
      "metadata": {
        "id": "D7GWe7ibPtHu",
        "colab": {
          "base_uri": "https://localhost:8080/"
        },
        "outputId": "078d3571-49b7-42ca-c99f-162d7f1a214a"
      },
      "outputs": [
        {
          "output_type": "execute_result",
          "data": {
            "text/plain": [
              "device(type='cuda', index=0)"
            ]
          },
          "metadata": {},
          "execution_count": 19
        }
      ],
      "source": [
        "# check the device that the model is trained on\n",
        "device = torch.device(\"cuda:0\" if torch.cuda.is_available() else \"cpu\")\n",
        "device"
      ]
    },
    {
      "cell_type": "code",
      "execution_count": 20,
      "metadata": {
        "id": "i_-dN7bQPTPp",
        "colab": {
          "base_uri": "https://localhost:8080/"
        },
        "outputId": "9084855a-5d0a-41da-bd4f-18515a301b2e"
      },
      "outputs": [
        {
          "output_type": "execute_result",
          "data": {
            "text/plain": [
              "EventClassifier(\n",
              "  (bert): BertModel(\n",
              "    (embeddings): BertEmbeddings(\n",
              "      (word_embeddings): Embedding(28996, 768, padding_idx=0)\n",
              "      (position_embeddings): Embedding(512, 768)\n",
              "      (token_type_embeddings): Embedding(2, 768)\n",
              "      (LayerNorm): LayerNorm((768,), eps=1e-12, elementwise_affine=True)\n",
              "      (dropout): Dropout(p=0.1, inplace=False)\n",
              "    )\n",
              "    (encoder): BertEncoder(\n",
              "      (layer): ModuleList(\n",
              "        (0-11): 12 x BertLayer(\n",
              "          (attention): BertAttention(\n",
              "            (self): BertSelfAttention(\n",
              "              (query): Linear(in_features=768, out_features=768, bias=True)\n",
              "              (key): Linear(in_features=768, out_features=768, bias=True)\n",
              "              (value): Linear(in_features=768, out_features=768, bias=True)\n",
              "              (dropout): Dropout(p=0.1, inplace=False)\n",
              "            )\n",
              "            (output): BertSelfOutput(\n",
              "              (dense): Linear(in_features=768, out_features=768, bias=True)\n",
              "              (LayerNorm): LayerNorm((768,), eps=1e-12, elementwise_affine=True)\n",
              "              (dropout): Dropout(p=0.1, inplace=False)\n",
              "            )\n",
              "          )\n",
              "          (intermediate): BertIntermediate(\n",
              "            (dense): Linear(in_features=768, out_features=3072, bias=True)\n",
              "            (intermediate_act_fn): GELUActivation()\n",
              "          )\n",
              "          (output): BertOutput(\n",
              "            (dense): Linear(in_features=3072, out_features=768, bias=True)\n",
              "            (LayerNorm): LayerNorm((768,), eps=1e-12, elementwise_affine=True)\n",
              "            (dropout): Dropout(p=0.1, inplace=False)\n",
              "          )\n",
              "        )\n",
              "      )\n",
              "    )\n",
              "    (pooler): BertPooler(\n",
              "      (dense): Linear(in_features=768, out_features=768, bias=True)\n",
              "      (activation): Tanh()\n",
              "    )\n",
              "  )\n",
              "  (drop): Dropout(p=0.3, inplace=False)\n",
              "  (out): Linear(in_features=768, out_features=48, bias=True)\n",
              ")"
            ]
          },
          "metadata": {},
          "execution_count": 20
        }
      ],
      "source": [
        "# model used to classify injury reports\n",
        "EventClassModel = EventClassifier(len(train_set['event_ind'].unique().tolist()))\n",
        "EventClassModel = EventClassModel.to(device)\n",
        "EventClassModel"
      ]
    },
    {
      "cell_type": "markdown",
      "source": [
        "#### An illustrating example of model prediction\n",
        "The example below shows the output format. The output of the model of any given batch is of the shape _batchSize_ * _NumOfLabels_, which is the predicted probability of each label for each of the _batchSize_ texts in the batch. By outputing the ***most probable*** label, we obtain the predicted label of the document."
      ],
      "metadata": {
        "id": "mrK6Cc0lGSzK"
      }
    },
    {
      "cell_type": "code",
      "source": [
        "# Another Example = AE\n",
        "AnotherExample = next(iter(train_data_loader))\n",
        "\n",
        "# Load input_ids, attention mask and event_ind from dataloader\n",
        "input_ids_AE = AnotherExample[\"input_ids\"].to(device)\n",
        "attention_mask_AE = AnotherExample[\"attention_mask\"].to(device)\n",
        "events_AE = AnotherExample[\"event_ind\"].to(device)\n",
        "\n",
        "# get output from model\n",
        "outputs_AE = EventClassModel(\n",
        "      input_ids=input_ids_AE,\n",
        "      attention_mask=attention_mask_AE\n",
        "    )\n",
        "print(\"Model output shape for another batch of data:\")\n",
        "print(outputs_AE.shape)\n",
        "\n",
        "print(\"Prediction got by outputing the event number with the highest probabliity:\")\n",
        "# get predictions\n",
        "_, preds_AE = torch.max(outputs_AE, dim=1)\n",
        "print(preds_AE)"
      ],
      "metadata": {
        "colab": {
          "base_uri": "https://localhost:8080/"
        },
        "id": "tRAe0lUNFRbC",
        "outputId": "62d13d63-ebab-4eb1-bda9-1c8c0b9efaf4"
      },
      "execution_count": 21,
      "outputs": [
        {
          "output_type": "stream",
          "name": "stdout",
          "text": [
            "Model output shape for another batch of data:\n",
            "torch.Size([16, 48])\n",
            "Prediction got by outputing the event number with the highest probabliity:\n",
            "tensor([35, 35, 11,  0, 10,  2, 19, 20, 19, 43, 16, 35, 43, 46, 11, 43],\n",
            "       device='cuda:0')\n"
          ]
        }
      ]
    },
    {
      "cell_type": "markdown",
      "source": [
        "## Define model (hyper)parameters\n",
        "Below we determin the **training epochs**, **learning rate**, **optimizer**, and **loss function**. The scheduler method can _decrease_ the learning rate gradually during the training process.\n"
      ],
      "metadata": {
        "id": "tqWcp7h3_xUN"
      }
    },
    {
      "cell_type": "code",
      "execution_count": 22,
      "metadata": {
        "colab": {
          "base_uri": "https://localhost:8080/"
        },
        "id": "Erg6f6dLUooE",
        "outputId": "8a6970b6-648c-48f7-b3f6-c8b94816ef8e"
      },
      "outputs": [
        {
          "output_type": "stream",
          "name": "stderr",
          "text": [
            "/usr/local/lib/python3.10/dist-packages/transformers/optimization.py:411: FutureWarning: This implementation of AdamW is deprecated and will be removed in a future version. Use the PyTorch implementation torch.optim.AdamW instead, or set `no_deprecation_warning=True` to disable this warning\n",
            "  warnings.warn(\n"
          ]
        }
      ],
      "source": [
        "EPOCHS = 10\n",
        "learn_rate = 2e-5\n",
        "optimizer = AdamW(EventClassModel.parameters(), lr=learn_rate, correct_bias=False)\n",
        "total_steps = len(train_data_loader) * EPOCHS\n",
        "loss_fn = nn.CrossEntropyLoss().to(device)\n",
        "\n",
        "scheduler = get_linear_schedule_with_warmup(\n",
        "  optimizer,\n",
        "  num_warmup_steps=0,\n",
        "  num_training_steps=total_steps\n",
        ")"
      ]
    },
    {
      "cell_type": "code",
      "execution_count": 23,
      "metadata": {
        "id": "QcoYGGCgUtn6"
      },
      "outputs": [],
      "source": [
        "def train_epoch(\n",
        "    model,\n",
        "    data_loader,\n",
        "    loss_fn,\n",
        "    optimizer,\n",
        "    device,\n",
        "    scheduler,\n",
        "    n_examples):\n",
        "\n",
        "  model = model.train()\n",
        "\n",
        "  losses = []\n",
        "  correct_predictions = 0\n",
        "\n",
        "  # load data from the dataloader\n",
        "  for d in data_loader:\n",
        "    input_ids = d[\"input_ids\"].to(device)\n",
        "    attention_mask = d[\"attention_mask\"].to(device)\n",
        "    events = d[\"event_ind\"].to(device)\n",
        "\n",
        "    # get output from model\n",
        "    outputs = model(\n",
        "      input_ids=input_ids,\n",
        "      attention_mask=attention_mask\n",
        "    )\n",
        "    # get predictions\n",
        "    _, preds = torch.max(outputs, dim=1)\n",
        "\n",
        "    # calculate loss\n",
        "    loss = loss_fn(outputs, events)\n",
        "\n",
        "    # sum correct predictions\n",
        "    correct_predictions += torch.sum(preds == events)\n",
        "\n",
        "    # append loss\n",
        "    losses.append(loss.item())\n",
        "\n",
        "    # back propagation\n",
        "    loss.backward()\n",
        "\n",
        "    nn.utils.clip_grad_norm_(model.parameters(), max_norm=1.0)\n",
        "\n",
        "    # optimization\n",
        "    optimizer.step()\n",
        "\n",
        "    # update learning rate (as defined in schedule)\n",
        "    scheduler.step()\n",
        "\n",
        "    # clear optimizer\n",
        "    optimizer.zero_grad()\n",
        "\n",
        "    # return accuracy and loss\n",
        "  return correct_predictions.double() / n_examples, np.mean(losses)"
      ]
    },
    {
      "cell_type": "code",
      "source": [
        "# Training loop used on training data set\n",
        "%%time\n",
        "history = defaultdict(list)\n",
        "best_accuracy = 0\n",
        "\n",
        "for epoch in range(EPOCHS):\n",
        "  epoch_start_time = time.time()\n",
        "  print(f'Epoch {epoch + 1}/{EPOCHS}')\n",
        "  print('-' * 10)\n",
        "\n",
        "  train_acc, train_loss = train_epoch(\n",
        "    EventClassModel,\n",
        "    train_data_loader,\n",
        "    loss_fn,\n",
        "    optimizer,\n",
        "    device,\n",
        "    scheduler,\n",
        "    len(train_set)\n",
        "  )\n",
        "  epoch_end_time = time.time()\n",
        "  print(f'Train loss {train_loss},\\\n",
        "           accuracy {train_acc},\\\n",
        "           epoch_training_time {epoch_end_time-epoch_start_time}')\n"
      ],
      "metadata": {
        "id": "k3XDc-kiB7T-",
        "colab": {
          "base_uri": "https://localhost:8080/"
        },
        "outputId": "e0bebd7e-1812-4f3a-a0d9-fd75a05fac9a"
      },
      "execution_count": 24,
      "outputs": [
        {
          "output_type": "stream",
          "name": "stdout",
          "text": [
            "Epoch 1/10\n",
            "----------\n",
            "Train loss 0.5384005522648426,           accuracy 0.8403750761465494,           epoch_training_time 1479.3440754413605\n",
            "Epoch 2/10\n",
            "----------\n",
            "Train loss 0.32544107389874294,           accuracy 0.9005634844661039,           epoch_training_time 1480.5498962402344\n",
            "Epoch 3/10\n",
            "----------\n",
            "Train loss 0.24545349651721513,           accuracy 0.9267850926812288,           epoch_training_time 1481.5969259738922\n",
            "Epoch 4/10\n",
            "----------\n",
            "Train loss 0.18669774395236768,           accuracy 0.9468660255852406,           epoch_training_time 1480.8880479335785\n",
            "Epoch 5/10\n",
            "----------\n",
            "Train loss 0.13819394949333835,           accuracy 0.9625957270907667,           epoch_training_time 1483.8898866176605\n",
            "Epoch 6/10\n",
            "----------\n",
            "Train loss 0.10059979136787482,           accuracy 0.974028587590288,           epoch_training_time 1484.8600568771362\n",
            "Epoch 7/10\n",
            "----------\n",
            "Train loss 0.07113952271428231,           accuracy 0.9819097554607954,           epoch_training_time 1482.9865021705627\n",
            "Epoch 8/10\n",
            "----------\n",
            "Train loss 0.04886757309185037,           accuracy 0.9881048211643895,           epoch_training_time 1483.483474969864\n",
            "Epoch 9/10\n",
            "----------\n",
            "Train loss 0.03279402073277655,           accuracy 0.9918958315203202,           epoch_training_time 1488.499140739441\n",
            "Epoch 10/10\n",
            "----------\n",
            "Train loss 0.021514965530327546,           accuracy 0.9946588634583586,           epoch_training_time 1489.523320198059\n",
            "CPU times: user 3h 6min 20s, sys: 1h 35s, total: 4h 6min 56s\n",
            "Wall time: 4h 7min 15s\n"
          ]
        }
      ]
    },
    {
      "cell_type": "code",
      "execution_count": 25,
      "metadata": {
        "id": "pXOtCWnXUy2R"
      },
      "outputs": [],
      "source": [
        "def eval_model(model, data_loader, loss_fn, device, n_examples):\n",
        "  model = model.eval()\n",
        "  losses = []\n",
        "  results = []\n",
        "  correct_predictions = 0\n",
        "  # load data from the dataloader\n",
        "  with torch.no_grad():\n",
        "    for d in data_loader:\n",
        "      input_ids = d[\"input_ids\"].to(device)\n",
        "      texts = d[\"text\"]\n",
        "      attention_mask = d[\"attention_mask\"].to(device)\n",
        "      targets = d[\"event_ind\"].to(device)\n",
        "\n",
        "      # get predictions\n",
        "      outputs = model(\n",
        "        input_ids=input_ids,\n",
        "        attention_mask=attention_mask\n",
        "      )\n",
        "      _, preds = torch.max(outputs, dim=1)\n",
        "\n",
        "      results += list(zip(texts, targets.tolist(),preds.tolist()))\n",
        "\n",
        "      # calculate losss\n",
        "      loss = loss_fn(outputs, targets)\n",
        "\n",
        "      # sum of  correct predictions\n",
        "      correct_predictions += torch.sum(preds == targets)\n",
        "\n",
        "      # append loss\n",
        "      losses.append(loss.item())\n",
        "\n",
        "  # return accuracy and loss\n",
        "      accuracy = correct_predictions.double() / n_examples\n",
        "      loss = np.mean(losses)\n",
        "  print(\"Model Accuracy: {}\".format(accuracy))\n",
        "  print(\"Model loss: {}\".format(loss))\n",
        "\n",
        "  return results\n"
      ]
    },
    {
      "cell_type": "code",
      "source": [
        "# development set results\n",
        "print(\"Evaluation on Development Set...\")\n",
        "dev_preds = eval_model(\n",
        "            EventClassModel,\n",
        "            dev_data_loader,\n",
        "            loss_fn,\n",
        "            device,\n",
        "            len(dev_set))\n"
      ],
      "metadata": {
        "colab": {
          "base_uri": "https://localhost:8080/"
        },
        "id": "6qNmjbw2Zxox",
        "outputId": "ddb216f2-a57f-4913-d957-6b5187fca173"
      },
      "execution_count": 26,
      "outputs": [
        {
          "output_type": "stream",
          "name": "stdout",
          "text": [
            "Evaluation on Development Set...\n",
            "Model Accuracy: 0.8912627273518405\n",
            "Model loss: 0.8414362918922239\n"
          ]
        }
      ]
    },
    {
      "cell_type": "code",
      "source": [
        "dev_preds_df = pd.DataFrame(dev_preds, columns = ['text', 'event_ind', 'preds_transformer'])\n",
        "dev_preds_df.to_csv('DevSetGenPred_Transfomer.csv', index = False)"
      ],
      "metadata": {
        "id": "oF5zJ3BNlq1y"
      },
      "execution_count": 27,
      "outputs": []
    },
    {
      "cell_type": "code",
      "source": [
        "# Test set results\n",
        "print(\"Evaluation on Test Set...\")\n",
        "test_preds = eval_model(\n",
        "            EventClassModel,\n",
        "            test_data_loader,\n",
        "            loss_fn,\n",
        "            device,\n",
        "            len(test_set))\n"
      ],
      "metadata": {
        "colab": {
          "base_uri": "https://localhost:8080/"
        },
        "id": "AcrSiY9Qm1En",
        "outputId": "f374221d-74ea-4ecf-e356-873af799ce17"
      },
      "execution_count": 28,
      "outputs": [
        {
          "output_type": "stream",
          "name": "stdout",
          "text": [
            "Evaluation on Test Set...\n",
            "Model Accuracy: 0.8922199982595074\n",
            "Model loss: 0.8361181895038704\n"
          ]
        }
      ]
    },
    {
      "cell_type": "code",
      "source": [
        "test_preds_df = pd.DataFrame(test_preds, columns = ['text', 'event_ind', 'preds_transformer'])\n",
        "test_preds_df.to_csv('TestSetGenPred_Transfomer.csv', index = False)"
      ],
      "metadata": {
        "id": "B63fbotbn-HH"
      },
      "execution_count": 29,
      "outputs": []
    }
  ],
  "metadata": {
    "accelerator": "GPU",
    "colab": {
      "provenance": [],
      "gpuType": "V100",
      "machine_shape": "hm"
    },
    "kernelspec": {
      "display_name": "Python 3",
      "name": "python3"
    },
    "language_info": {
      "name": "python"
    }
  },
  "nbformat": 4,
  "nbformat_minor": 0
}